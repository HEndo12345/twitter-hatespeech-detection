{
 "cells": [
  {
   "cell_type": "code",
   "execution_count": 1,
   "metadata": {
    "scrolled": true
   },
   "outputs": [
    {
     "name": "stderr",
     "output_type": "stream",
     "text": [
      "Using TensorFlow backend.\n"
     ]
    }
   ],
   "source": [
    "import numpy as np\n",
    "from keras.models import Sequential, load_model\n",
    "from keras.layers import Dense, Activation\n",
    "from keras.layers import LSTM, Dropout\n",
    "from keras.layers.embeddings import Embedding\n",
    "from keras.preprocessing import sequence\n",
    "import random\n",
    "from matplotlib import pyplot as plt\n",
    "from keras.wrappers.scikit_learn import KerasClassifier\n",
    "from functions import *\n",
    "import pandas as pd\n",
    "import seaborn as sns\n",
    "from sklearn.metrics import confusion_matrix\n",
    "from sklearn.metrics import f1_score\n",
    "from copy import deepcopy as dp\n",
    "from keras.callbacks import EarlyStopping, ModelCheckpoint\n",
    "from keras.metrics import categorical_accuracy\n",
    "import os\n",
    "from keras import backend as K \n",
    "import optuna\n",
    "from optuna.integration import KerasPruningCallback\n",
    "from optuna.testing.integration import DeterministicPruner\n",
    "from keras.optimizers import Adam"
   ]
  },
  {
   "cell_type": "code",
   "execution_count": 2,
   "metadata": {},
   "outputs": [],
   "source": [
    "def gen_model(hidden, drop, vocab_size, embed):\n",
    "    model = Sequential()\n",
    "    model.add(Embedding(vocab_size, 20, input_length = embed, mask_zero = True))\n",
    "    model.add(LSTM(hidden))\n",
    "    model.add(Dropout(drop))\n",
    "    model.add(Dense(3))\n",
    "    model.add(Activation('softmax'))\n",
    "    \n",
    "    return model"
   ]
  },
  {
   "cell_type": "code",
   "execution_count": 3,
   "metadata": {},
   "outputs": [],
   "source": [
    "import warnings\n",
    "warnings.filterwarnings('ignore')\n",
    "optuna.logging.enable_default_handler()"
   ]
  },
  {
   "cell_type": "code",
   "execution_count": 4,
   "metadata": {},
   "outputs": [],
   "source": [
    "data, w_i, i_d = load_pkl(r'cleaned_corpus/augmented_model_input.pkl')\n",
    "test_a, train_a = load_pkl(r'cleaned_corpus/augmented_ans.pkl')\n",
    "test, train = data\n",
    "\n",
    "sets = list(zip(train, train_a))\n",
    "random.shuffle(sets)\n",
    "hate = [text for text in sets if np.argmax(text[1]) == 0]\n",
    "off = [text for text in sets if np.argmax(text[1]) == 1]\n",
    "nei = [text for text in sets if np.argmax(text[1]) == 2]\n",
    "train_set = []\n",
    "valid_set = []\n",
    "for i in [hate, off, nei]:\n",
    "    random.shuffle(i)\n",
    "    train_set.extend(i[round(len(i)*0.2):])\n",
    "    valid_set.extend(i[:round(len(i)*0.2)])"
   ]
  },
  {
   "cell_type": "code",
   "execution_count": null,
   "metadata": {},
   "outputs": [],
   "source": [
    "random.shuffle(train_set)\n",
    "train_X, train_y = zip(*train_set)\n",
    "valid_X, valid_y = zip(*valid_set)"
   ]
  },
  {
   "cell_type": "code",
   "execution_count": null,
   "metadata": {},
   "outputs": [],
   "source": [
    "es = EarlyStopping(monitor='val_loss', mode='min', verbose=1, patience=2, min_delta=0.005)\n",
    "mcp_save = ModelCheckpoint('best_lstm.hdf5', save_best_only=True, monitor='val_loss', mode='min')"
   ]
  },
  {
   "cell_type": "code",
   "execution_count": null,
   "metadata": {},
   "outputs": [],
   "source": [
    "vocab_size = len(w_i)\n",
    "embed_size = len(train_X[0])"
   ]
  },
  {
   "cell_type": "code",
   "execution_count": null,
   "metadata": {},
   "outputs": [],
   "source": [
    "def objective(trial):\n",
    "    random.shuffle(train_set)\n",
    "    train_X, train_y = zip(*train_set)\n",
    "    params = {\n",
    "    'lr': trial.suggest_loguniform('lr', 1e-3, 1e-1),\n",
    "    'hidden': trial.suggest_categorical('hidden', list(range(1, 200, 10))),\n",
    "    'drop': trial.suggest_uniform('drop', 0.1, 1),\n",
    "    'batch': trial.suggest_categorical('batch', [10, 30, 50, 90, 135]),\n",
    "    }\n",
    "    adam = Adam(lr=params['lr'])\n",
    "    model = gen_model(params['hidden'], params['drop'], vocab_size= vocab_size, embed=embed_size) \n",
    "    model.compile(loss='categorical_crossentropy', optimizer=adam, metrics=[categorical_accuracy])\n",
    "    history = model.fit(np.array(train_X), np.array(train_y), batch_size=params['batch'], \n",
    "                        validation_data = (np.array(valid_X), np.array(valid_y)), \n",
    "                        epochs=10, shuffle=True, verbose = 0,\n",
    "                        callbacks = [es, mcp_save]#, KerasPruningCallback(trial, 'val_acc')]\n",
    "                       )\n",
    "    model = load_model('best_lstm.hdf5')\n",
    "    pred = np.argmax(model.predict(np.array(valid_X)), axis = 1)\n",
    "    true = np.argmax(valid_y, axis = 1)\n",
    "    score = f1_score(y_true=true, y_pred=pred, average = 'macro')\n",
    "    backend.clear_session()\n",
    "    history\n",
    "    return 1.0-score"
   ]
  },
  {
   "cell_type": "code",
   "execution_count": null,
   "metadata": {},
   "outputs": [],
   "source": [
    "from keras.backend import tensorflow_backend as backend"
   ]
  },
  {
   "cell_type": "code",
   "execution_count": null,
   "metadata": {
    "scrolled": true
   },
   "outputs": [
    {
     "name": "stdout",
     "output_type": "stream",
     "text": [
      "Epoch 00004: early stopping\n",
      "Epoch 00004: early stopping\n",
      "Epoch 00005: early stopping\n",
      "Epoch 00004: early stopping\n",
      "Epoch 00004: early stopping\n",
      "Epoch 00004: early stopping\n",
      "Epoch 00007: early stopping\n",
      "Epoch 00004: early stopping\n",
      "Epoch 00004: early stopping\n",
      "Epoch 00003: early stopping\n",
      "Epoch 00006: early stopping\n",
      "Epoch 00005: early stopping\n",
      "Epoch 00004: early stopping\n",
      "Epoch 00005: early stopping\n",
      "Epoch 00009: early stopping\n",
      "Epoch 00004: early stopping\n",
      "Epoch 00004: early stopping\n",
      "Epoch 00008: early stopping\n",
      "Epoch 00003: early stopping\n",
      "Epoch 00004: early stopping\n",
      "Epoch 00004: early stopping\n",
      "Epoch 00004: early stopping\n",
      "Epoch 00003: early stopping\n",
      "Epoch 00003: early stopping\n",
      "Epoch 00004: early stopping\n",
      "Epoch 00003: early stopping\n",
      "Epoch 00004: early stopping\n",
      "Epoch 00005: early stopping\n",
      "Epoch 00006: early stopping\n",
      "Epoch 00004: early stopping\n",
      "Epoch 00003: early stopping\n",
      "Epoch 00004: early stopping\n",
      "Epoch 00004: early stopping\n",
      "Epoch 00005: early stopping\n",
      "Epoch 00004: early stopping\n",
      "Epoch 00004: early stopping\n",
      "Epoch 00004: early stopping\n",
      "Epoch 00004: early stopping\n",
      "Epoch 00007: early stopping\n",
      "Epoch 00004: early stopping\n",
      "Epoch 00005: early stopping\n",
      "Epoch 00004: early stopping\n",
      "Epoch 00005: early stopping\n",
      "Epoch 00005: early stopping\n",
      "Epoch 00004: early stopping\n",
      "Epoch 00006: early stopping\n",
      "Epoch 00004: early stopping\n",
      "Epoch 00005: early stopping\n"
     ]
    },
    {
     "name": "stderr",
     "output_type": "stream",
     "text": [
      "[I 2019-02-27 08:41:43,166] Finished trial 50 / 300 Current best value is 0.11855522931566398 with parameters: {'batch': 50, 'lr': 0.013323570817940833, 'drop': 0.32433889180794917, 'hidden': 181}.\n"
     ]
    },
    {
     "name": "stdout",
     "output_type": "stream",
     "text": [
      "Epoch 00003: early stopping\n",
      "Epoch 00004: early stopping\n",
      "Epoch 00005: early stopping\n",
      "Epoch 00003: early stopping\n",
      "Epoch 00003: early stopping\n",
      "Epoch 00003: early stopping\n",
      "Epoch 00004: early stopping\n",
      "Epoch 00004: early stopping\n",
      "Epoch 00004: early stopping\n",
      "Epoch 00005: early stopping\n",
      "Epoch 00004: early stopping\n",
      "Epoch 00006: early stopping\n",
      "Epoch 00004: early stopping\n",
      "Epoch 00006: early stopping\n",
      "Epoch 00004: early stopping\n",
      "Epoch 00004: early stopping\n",
      "Epoch 00006: early stopping\n",
      "Epoch 00004: early stopping\n",
      "Epoch 00004: early stopping\n",
      "Epoch 00010: early stopping\n",
      "Epoch 00003: early stopping\n",
      "Epoch 00004: early stopping\n",
      "Epoch 00004: early stopping\n",
      "Epoch 00005: early stopping\n",
      "Epoch 00005: early stopping\n",
      "Epoch 00004: early stopping\n",
      "Epoch 00004: early stopping\n",
      "Epoch 00004: early stopping\n",
      "Epoch 00003: early stopping\n",
      "Epoch 00004: early stopping\n",
      "Epoch 00004: early stopping\n",
      "Epoch 00004: early stopping\n",
      "Epoch 00004: early stopping\n",
      "Epoch 00004: early stopping\n",
      "Epoch 00005: early stopping\n",
      "Epoch 00006: early stopping\n",
      "Epoch 00003: early stopping\n",
      "Epoch 00005: early stopping\n",
      "Epoch 00005: early stopping\n",
      "Epoch 00004: early stopping\n",
      "Epoch 00005: early stopping\n",
      "Epoch 00004: early stopping\n",
      "Epoch 00004: early stopping\n",
      "Epoch 00006: early stopping\n",
      "Epoch 00004: early stopping\n",
      "Epoch 00005: early stopping\n",
      "Epoch 00005: early stopping\n",
      "Epoch 00004: early stopping\n",
      "Epoch 00004: early stopping\n"
     ]
    },
    {
     "name": "stderr",
     "output_type": "stream",
     "text": [
      "[I 2019-02-27 09:51:24,025] Finished trial 100 / 300 Current best value is 0.11855522931566398 with parameters: {'batch': 50, 'lr': 0.013323570817940833, 'drop': 0.32433889180794917, 'hidden': 181}.\n"
     ]
    },
    {
     "name": "stdout",
     "output_type": "stream",
     "text": [
      "Epoch 00004: early stopping\n",
      "Epoch 00004: early stopping\n",
      "Epoch 00005: early stopping\n",
      "Epoch 00003: early stopping\n",
      "Epoch 00005: early stopping\n",
      "Epoch 00004: early stopping\n",
      "Epoch 00003: early stopping\n",
      "Epoch 00003: early stopping\n",
      "Epoch 00004: early stopping\n",
      "Epoch 00004: early stopping\n",
      "Epoch 00004: early stopping\n",
      "Epoch 00004: early stopping\n",
      "Epoch 00006: early stopping\n",
      "Epoch 00004: early stopping\n",
      "Epoch 00004: early stopping\n",
      "Epoch 00004: early stopping\n",
      "Epoch 00004: early stopping\n",
      "Epoch 00004: early stopping\n",
      "Epoch 00004: early stopping\n",
      "Epoch 00004: early stopping\n",
      "Epoch 00004: early stopping\n",
      "Epoch 00003: early stopping\n",
      "Epoch 00005: early stopping\n",
      "Epoch 00003: early stopping\n",
      "Epoch 00003: early stopping\n",
      "Epoch 00003: early stopping\n",
      "Epoch 00005: early stopping\n",
      "Epoch 00004: early stopping\n",
      "Epoch 00005: early stopping\n",
      "Epoch 00003: early stopping\n",
      "Epoch 00005: early stopping\n",
      "Epoch 00006: early stopping\n",
      "Epoch 00004: early stopping\n",
      "Epoch 00004: early stopping\n",
      "Epoch 00004: early stopping\n",
      "Epoch 00003: early stopping\n",
      "Epoch 00004: early stopping\n",
      "Epoch 00004: early stopping\n",
      "Epoch 00004: early stopping\n",
      "Epoch 00009: early stopping\n",
      "Epoch 00010: early stopping\n",
      "Epoch 00003: early stopping\n",
      "Epoch 00003: early stopping\n",
      "Epoch 00004: early stopping\n",
      "Epoch 00003: early stopping\n",
      "Epoch 00003: early stopping\n",
      "Epoch 00004: early stopping\n",
      "Epoch 00004: early stopping\n",
      "Epoch 00004: early stopping\n",
      "Epoch 00003: early stopping\n"
     ]
    },
    {
     "name": "stderr",
     "output_type": "stream",
     "text": [
      "[I 2019-02-27 11:13:35,595] Finished trial 150 / 300 Current best value is 0.11482888838591243 with parameters: {'batch': 30, 'lr': 0.013071298130398291, 'drop': 0.6349548213958957, 'hidden': 171}.\n"
     ]
    },
    {
     "name": "stdout",
     "output_type": "stream",
     "text": [
      "Epoch 00003: early stopping\n",
      "Epoch 00008: early stopping\n",
      "Epoch 00010: early stopping\n",
      "Epoch 00010: early stopping\n",
      "Epoch 00005: early stopping\n",
      "Epoch 00004: early stopping\n",
      "Epoch 00003: early stopping\n",
      "Epoch 00003: early stopping\n",
      "Epoch 00003: early stopping\n",
      "Epoch 00003: early stopping\n",
      "Epoch 00003: early stopping\n",
      "Epoch 00004: early stopping\n",
      "Epoch 00003: early stopping\n",
      "Epoch 00004: early stopping\n",
      "Epoch 00005: early stopping\n",
      "Epoch 00005: early stopping\n",
      "Epoch 00003: early stopping\n",
      "Epoch 00004: early stopping\n",
      "Epoch 00004: early stopping\n",
      "Epoch 00004: early stopping\n",
      "Epoch 00004: early stopping\n",
      "Epoch 00004: early stopping\n",
      "Epoch 00004: early stopping\n",
      "Epoch 00004: early stopping\n",
      "Epoch 00003: early stopping\n",
      "Epoch 00003: early stopping\n",
      "Epoch 00004: early stopping\n",
      "Epoch 00003: early stopping\n",
      "Epoch 00005: early stopping\n",
      "Epoch 00003: early stopping\n",
      "Epoch 00005: early stopping\n",
      "Epoch 00006: early stopping\n",
      "Epoch 00005: early stopping\n",
      "Epoch 00005: early stopping\n",
      "Epoch 00004: early stopping\n",
      "Epoch 00004: early stopping\n",
      "Epoch 00003: early stopping\n",
      "Epoch 00003: early stopping\n",
      "Epoch 00005: early stopping\n",
      "Epoch 00005: early stopping\n",
      "Epoch 00005: early stopping\n",
      "Epoch 00003: early stopping\n",
      "Epoch 00003: early stopping\n",
      "Epoch 00003: early stopping\n",
      "Epoch 00003: early stopping\n",
      "Epoch 00003: early stopping\n",
      "Epoch 00003: early stopping\n",
      "Epoch 00003: early stopping\n",
      "Epoch 00006: early stopping\n"
     ]
    },
    {
     "name": "stderr",
     "output_type": "stream",
     "text": [
      "[I 2019-02-27 12:34:54,307] Finished trial 200 / 300 Current best value is 0.11482888838591243 with parameters: {'batch': 30, 'lr': 0.013071298130398291, 'drop': 0.6349548213958957, 'hidden': 171}.\n"
     ]
    },
    {
     "name": "stdout",
     "output_type": "stream",
     "text": [
      "Epoch 00004: early stopping\n",
      "Epoch 00003: early stopping\n",
      "Epoch 00004: early stopping\n",
      "Epoch 00003: early stopping\n",
      "Epoch 00003: early stopping\n",
      "Epoch 00003: early stopping\n",
      "Epoch 00003: early stopping\n",
      "Epoch 00005: early stopping\n",
      "Epoch 00009: early stopping\n",
      "Epoch 00005: early stopping\n",
      "Epoch 00004: early stopping\n",
      "Epoch 00003: early stopping\n",
      "Epoch 00004: early stopping\n",
      "Epoch 00004: early stopping\n",
      "Epoch 00004: early stopping\n",
      "Epoch 00004: early stopping\n",
      "Epoch 00004: early stopping\n"
     ]
    }
   ],
   "source": [
    "study = optuna.create_study()\n",
    "study.optimize(objective, n_trials=300, n_jobs=1, verb_pace = 50)"
   ]
  },
  {
   "cell_type": "code",
   "execution_count": null,
   "metadata": {},
   "outputs": [],
   "source": [
    "save_pkl('tune_result.pkl', study)"
   ]
  },
  {
   "cell_type": "code",
   "execution_count": 2,
   "metadata": {},
   "outputs": [],
   "source": [
    "best = {'batch': 30, 'lr': 0.013071298130398291, 'drop': 0.6349548213958957, 'hidden': 171}\n",
    "save_pkl('tuned_parameters/lstm_augmented.pkl', best)"
   ]
  },
  {
   "cell_type": "code",
   "execution_count": null,
   "metadata": {},
   "outputs": [],
   "source": []
  }
 ],
 "metadata": {
  "kernelspec": {
   "display_name": "Python 3.6",
   "language": "python",
   "name": "python3"
  },
  "language_info": {
   "codemirror_mode": {
    "name": "ipython",
    "version": 3
   },
   "file_extension": ".py",
   "mimetype": "text/x-python",
   "name": "python",
   "nbconvert_exporter": "python",
   "pygments_lexer": "ipython3",
   "version": "3.6.8"
  }
 },
 "nbformat": 4,
 "nbformat_minor": 2
}
