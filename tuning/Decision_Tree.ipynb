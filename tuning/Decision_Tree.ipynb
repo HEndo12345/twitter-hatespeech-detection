{
 "cells": [
  {
   "cell_type": "code",
   "execution_count": 1,
   "metadata": {},
   "outputs": [],
   "source": [
    "from sklearn.pipeline import Pipeline\n",
    "from functions import *\n",
    "from sklearn.naive_bayes import MultinomialNB \n",
    "from sklearn.metrics import confusion_matrix\n",
    "from nltk.corpus import stopwords\n",
    "from functions import * \n",
    "from sklearn.feature_extraction.text import CountVectorizer\n",
    "from sklearn.feature_extraction.text import TfidfTransformer\n",
    "import sklearn\n",
    "from matplotlib import pyplot as plt\n",
    "from sklearn.feature_selection import SelectKBest\n",
    "from sklearn.feature_selection import chi2\n",
    "import pandas as pd\n",
    "from sklearn.svm import LinearSVC\n",
    "from sklearn.metrics import classification_report\n",
    "import random\n",
    "from sklearn.model_selection import cross_validate as cvt\n",
    "from sklearn.feature_extraction.text import TfidfVectorizer\n",
    "from sklearn.tree import DecisionTreeClassifier as dtc\n",
    "from copy import deepcopy as dp\n",
    "\n",
    "def tokenize(text):\n",
    "    return text.split(' ')"
   ]
  },
  {
   "cell_type": "code",
   "execution_count": 2,
   "metadata": {},
   "outputs": [],
   "source": [
    "test, train = load_pkl(r'C:\\Users\\HEndo\\Documents\\GitHub\\zemi\\cleaned_corpus\\base_cleaned.pkl')\n",
    "test_a, train_a = load_pkl(r'C:\\Users\\HEndo\\Documents\\GitHub\\zemi\\cleaned_corpus\\org_answer_data.pkl')\n",
    "train_X = dp(train)\n",
    "train_Y = dp(train_a)"
   ]
  },
  {
   "cell_type": "code",
   "execution_count": 4,
   "metadata": {},
   "outputs": [
    {
     "name": "stderr",
     "output_type": "stream",
     "text": [
      "Using TensorFlow backend.\n"
     ]
    }
   ],
   "source": [
    "import optuna"
   ]
  },
  {
   "cell_type": "code",
   "execution_count": 5,
   "metadata": {},
   "outputs": [],
   "source": [
    "def objective(trial):\n",
    "    params = {\n",
    "    '_min': trial.suggest_loguniform('_min', 1e-3, 1e-1),\n",
    "    '_max': trial.suggest_discrete_uniform('_max',0.5, 0.9, 0.1),\n",
    "    'ngram': trial.suggest_categorical('ngram',[(1,1), (1,2)]),\n",
    "    'mx_depth': trial.suggest_discrete_uniform('mx_depth', 5, 150, 5),\n",
    "    'mn_sp': trial.suggest_uniform('mn_sp', 0.1, 0.3),\n",
    "    'mx_feat': trial.suggest_uniform('mx_feat', 0.1, 1.0)\n",
    "    }\n",
    "    sw = stopwords.words('english') + ['hes']\n",
    "    data = list(zip(train_X, train_Y))\n",
    "    random.shuffle(data)\n",
    "    ff_train, ff_train_a = zip(*data)\n",
    "    ff_train = [' '.join(text) for text in ff_train]\n",
    "    vect = TfidfVectorizer(stop_words=sw,tokenizer=tokenize, \n",
    "                          min_df= params['_min'], max_df=params['_max'], \n",
    "                          ngram_range=params['ngram'])\n",
    "    tfidf = vect.fit_transform(ff_train)\n",
    "    tree = dtc(max_depth=params['mx_depth'], \n",
    "               min_samples_split= params['mn_sp'],\n",
    "               min_samples_leaf= params['mn_lf'],\n",
    "               max_features= params['mx_feat']\n",
    "              )\n",
    "\n",
    "    scores = cvt(tree, tfidf, ff_train_a, cv = 4, return_train_score= True, scoring = 'f1_macro', )\n",
    "    test_s = scores['test_score'].mean()\n",
    "    train_s = scores['train_score'].mean()\n",
    "    f_score = 1.0 - float(test_s) + float(abs(train_s-test_s))/2.0\n",
    "    return f_score"
   ]
  },
  {
   "cell_type": "code",
   "execution_count": 5,
   "metadata": {},
   "outputs": [],
   "source": [
    "import warnings\n",
    "warnings.filterwarnings('ignore')\n",
    "optuna.logging.enable_default_handler()\n"
   ]
  },
  {
   "cell_type": "code",
   "execution_count": 7,
   "metadata": {
    "scrolled": true
   },
   "outputs": [
    {
     "name": "stderr",
     "output_type": "stream",
     "text": [
      "[I 2019-02-25 17:12:25,064] Finished trial 100 / 1000. Current best value is 0.31496667696863734 with parameters: {'_min': 0.007989289170602388, '_max': 0.5, 'ngram': (1, 1), 'mx_depth': 30.0, 'mn_sp': 0.11616103717130016, 'mn_lf': 1, 'mx_feat': 0.3475732714087273}.\n",
      "[I 2019-02-25 17:13:00,109] Finished trial 200 / 1000. Current best value is 0.31090697421803454 with parameters: {'_min': 0.004980417349302144, '_max': 0.7000000000000001, 'ngram': (1, 2), 'mx_depth': 35.0, 'mn_sp': 0.1201537750361901, 'mn_lf': 1, 'mx_feat': 0.3031566249684499}.\n",
      "[I 2019-02-25 17:13:01,283] Finished trial 200 / 1000. Current best value is 0.31090697421803454 with parameters: {'_min': 0.004980417349302144, '_max': 0.7000000000000001, 'ngram': (1, 2), 'mx_depth': 35.0, 'mn_sp': 0.1201537750361901, 'mn_lf': 1, 'mx_feat': 0.3031566249684499}.\n",
      "[I 2019-02-25 17:14:02,373] Finished trial 300 / 1000. Current best value is 0.3054546441557692 with parameters: {'_min': 0.0032157386496844517, '_max': 0.7000000000000001, 'ngram': (1, 2), 'mx_depth': 130.0, 'mn_sp': 0.17420138827269438, 'mn_lf': 1, 'mx_feat': 0.9995362953240912}.\n",
      "[I 2019-02-25 17:15:07,730] Finished trial 400 / 1000. Current best value is 0.3054546441557692 with parameters: {'_min': 0.0032157386496844517, '_max': 0.7000000000000001, 'ngram': (1, 2), 'mx_depth': 130.0, 'mn_sp': 0.17420138827269438, 'mn_lf': 1, 'mx_feat': 0.9995362953240912}.\n",
      "[I 2019-02-25 17:15:09,215] Finished trial 400 / 1000. Current best value is 0.3054546441557692 with parameters: {'_min': 0.0032157386496844517, '_max': 0.7000000000000001, 'ngram': (1, 2), 'mx_depth': 130.0, 'mn_sp': 0.17420138827269438, 'mn_lf': 1, 'mx_feat': 0.9995362953240912}.\n",
      "[I 2019-02-25 17:16:19,730] Finished trial 500 / 1000. Current best value is 0.3054546441557692 with parameters: {'_min': 0.0032157386496844517, '_max': 0.7000000000000001, 'ngram': (1, 2), 'mx_depth': 130.0, 'mn_sp': 0.17420138827269438, 'mn_lf': 1, 'mx_feat': 0.9995362953240912}.\n",
      "[I 2019-02-25 17:17:37,027] Finished trial 600 / 1000. Current best value is 0.3009616598197175 with parameters: {'_min': 0.003941570792418628, '_max': 0.7000000000000001, 'ngram': (1, 2), 'mx_depth': 140.0, 'mn_sp': 0.17573596009797782, 'mn_lf': 1, 'mx_feat': 0.8376154434188189}.\n",
      "[I 2019-02-25 17:17:38,355] Finished trial 600 / 1000. Current best value is 0.3009616598197175 with parameters: {'_min': 0.003941570792418628, '_max': 0.7000000000000001, 'ngram': (1, 2), 'mx_depth': 140.0, 'mn_sp': 0.17573596009797782, 'mn_lf': 1, 'mx_feat': 0.8376154434188189}.\n",
      "[I 2019-02-25 17:18:56,856] Finished trial 700 / 1000. Current best value is 0.3009616598197175 with parameters: {'_min': 0.003941570792418628, '_max': 0.7000000000000001, 'ngram': (1, 2), 'mx_depth': 140.0, 'mn_sp': 0.17573596009797782, 'mn_lf': 1, 'mx_feat': 0.8376154434188189}.\n",
      "[I 2019-02-25 17:20:19,556] Finished trial 800 / 1000. Current best value is 0.3009616598197175 with parameters: {'_min': 0.003941570792418628, '_max': 0.7000000000000001, 'ngram': (1, 2), 'mx_depth': 140.0, 'mn_sp': 0.17573596009797782, 'mn_lf': 1, 'mx_feat': 0.8376154434188189}.\n",
      "[I 2019-02-25 17:21:52,074] Finished trial 900 / 1000. Current best value is 0.3009616598197175 with parameters: {'_min': 0.003941570792418628, '_max': 0.7000000000000001, 'ngram': (1, 2), 'mx_depth': 140.0, 'mn_sp': 0.17573596009797782, 'mn_lf': 1, 'mx_feat': 0.8376154434188189}.\n",
      "[I 2019-02-25 17:21:53,824] Finished trial 900 / 1000. Current best value is 0.3009616598197175 with parameters: {'_min': 0.003941570792418628, '_max': 0.7000000000000001, 'ngram': (1, 2), 'mx_depth': 140.0, 'mn_sp': 0.17573596009797782, 'mn_lf': 1, 'mx_feat': 0.8376154434188189}.\n",
      "[I 2019-02-25 17:21:55,034] Finished trial 900 / 1000. Current best value is 0.3009616598197175 with parameters: {'_min': 0.003941570792418628, '_max': 0.7000000000000001, 'ngram': (1, 2), 'mx_depth': 140.0, 'mn_sp': 0.17573596009797782, 'mn_lf': 1, 'mx_feat': 0.8376154434188189}.\n"
     ]
    }
   ],
   "source": [
    "study = optuna.create_study()\n",
    "study.optimize(objective, n_trials=1000, n_jobs = -1)\n"
   ]
  },
  {
   "cell_type": "code",
   "execution_count": 8,
   "metadata": {},
   "outputs": [
    {
     "name": "stdout",
     "output_type": "stream",
     "text": [
      "{'_min': 0.003941570792418628, '_max': 0.7000000000000001, 'ngram': (1, 2), 'mx_depth': 140.0, 'mn_sp': 0.17573596009797782, 'mn_lf': 1, 'mx_feat': 0.8376154434188189}\n",
      "0.3009616598197175\n",
      "FrozenTrial(trial_id=581, state=<TrialState.COMPLETE: 1>, value=0.3009616598197175, datetime_start=datetime.datetime(2019, 2, 25, 17, 17, 24, 528965), datetime_complete=datetime.datetime(2019, 2, 25, 17, 17, 28, 309264), params={'_min': 0.003941570792418628, '_max': 0.7000000000000001, 'ngram': (1, 2), 'mx_depth': 140.0, 'mn_sp': 0.17573596009797782, 'mn_lf': 1, 'mx_feat': 0.8376154434188189}, user_attrs={}, system_attrs={}, intermediate_values={}, params_in_internal_repr={'_min': 0.003941570792418628, '_max': 0.7000000000000001, 'ngram': 1, 'mx_depth': 140.0, 'mn_sp': 0.17573596009797782, 'mn_lf': 0, 'mx_feat': 0.8376154434188189})\n"
     ]
    }
   ],
   "source": [
    "print(study.best_params)\n",
    "print(study.best_value)\n",
    "print(study.best_trial)"
   ]
  },
  {
   "cell_type": "code",
   "execution_count": 9,
   "metadata": {},
   "outputs": [],
   "source": [
    "def objective2(trial):\n",
    "    params = {\n",
    "    '_min': trial.suggest_uniform('_min', 1e-3, 8*1e-3),\n",
    "    'mx_depth': trial.suggest_discrete_uniform('mx_depth', 10, 500, 10),\n",
    "    }\n",
    "    sw = stopwords.words('english') + ['hes']\n",
    "    data = list(zip(train_X, train_Y))\n",
    "    random.shuffle(data)\n",
    "    ff_train, ff_train_a = zip(*data)\n",
    "    ff_train = [' '.join(text) for text in ff_train]\n",
    "    vect = TfidfVectorizer(stop_words=sw,tokenizer=tokenize, \n",
    "                          min_df= params['_min'], max_df=0.75, \n",
    "                          ngram_range=(1,2))\n",
    "    tfidf = vect.fit_transform(ff_train)\n",
    "    tree = dtc(max_depth=abs(params['mx_depth']), \n",
    "               min_samples_split= 0.18,\n",
    "               max_features= 0.85\n",
    "              )\n",
    "\n",
    "    scores = cvt(tree, tfidf, ff_train_a, cv = 4, return_train_score= True, scoring = 'f1_macro', )\n",
    "    test_s = scores['test_score'].mean()\n",
    "    train_s = scores['train_score'].mean()\n",
    "    f_score = 1.0 - float(test_s) + float(abs(train_s-test_s))/2.0\n",
    "    \n",
    "    return f_score"
   ]
  },
  {
   "cell_type": "code",
   "execution_count": 10,
   "metadata": {
    "scrolled": true
   },
   "outputs": [
    {
     "name": "stderr",
     "output_type": "stream",
     "text": [
      "[I 2019-02-27 09:56:14,026] Finished trial 100 / 300. Current best value is 0.2450829739016842 with parameters: {'_min': 0.0032464550033867497, 'mx_depth': 30.0}.\n",
      "[I 2019-02-27 09:57:55,687] Finished trial 200 / 300. Current best value is 0.24288514726194826 with parameters: {'_min': 0.004641281633399373, 'mx_depth': 30.0}.\n",
      "[I 2019-02-27 09:59:44,619] Finished trial 300 / 300. Current best value is 0.24288514726194826 with parameters: {'_min': 0.004641281633399373, 'mx_depth': 30.0}.\n"
     ]
    }
   ],
   "source": [
    "study2 = optuna.create_study()\n",
    "study2.optimize(objective2, n_trials=300, n_jobs = 1, verb_pace = 100)\n"
   ]
  },
  {
   "cell_type": "code",
   "execution_count": 16,
   "metadata": {},
   "outputs": [],
   "source": [
    "data = load_pkl('tuned_parameters/decision_tree.pkl')\n",
    "save_pkl('tuned_parameters/decision_tree.pkl', list(data).append(study2))"
   ]
  },
  {
   "cell_type": "code",
   "execution_count": 18,
   "metadata": {},
   "outputs": [],
   "source": [
    "def objective3(trial):\n",
    "    params = {\n",
    "    'mx_depth': trial.suggest_discrete_uniform('mx_depth', 10, 500, 10),\n",
    "    }\n",
    "    sw = stopwords.words('english') + ['hes']\n",
    "    data = list(zip(train_X, train_Y))\n",
    "    random.shuffle(data)\n",
    "    ff_train, ff_train_a = zip(*data)\n",
    "    ff_train = [' '.join(text) for text in ff_train]\n",
    "    vect = TfidfVectorizer(stop_words=sw,tokenizer=tokenize, \n",
    "                          min_df= 0.0045, max_df=0.75, \n",
    "                          ngram_range=(1,2))\n",
    "    tfidf = vect.fit_transform(ff_train)\n",
    "    tree = dtc(max_depth=abs(params['mx_depth']), \n",
    "               min_samples_split= 0.18,\n",
    "               max_features= 0.85\n",
    "              )\n",
    "\n",
    "    scores = cvt(tree, tfidf, ff_train_a, cv = 4, return_train_score= True, scoring = 'f1_macro', )\n",
    "    test_s = scores['test_score'].mean()\n",
    "    train_s = scores['train_score'].mean()\n",
    "    f_score = 1.0 - float(test_s) + float(abs(train_s-test_s))/2.0\n",
    "    \n",
    "    return f_score"
   ]
  },
  {
   "cell_type": "code",
   "execution_count": 19,
   "metadata": {
    "scrolled": true
   },
   "outputs": [
    {
     "name": "stderr",
     "output_type": "stream",
     "text": [
      "[I 2019-02-27 10:10:36,656] Finished trial 50 / 300. Current best value is 0.2529064872768976 with parameters: {'mx_depth': 30.0}.\n",
      "[I 2019-02-27 10:11:23,935] Finished trial 100 / 300. Current best value is 0.24894499440492773 with parameters: {'mx_depth': 50.0}.\n",
      "[I 2019-02-27 10:12:12,156] Finished trial 150 / 300. Current best value is 0.2392451300984194 with parameters: {'mx_depth': 20.0}.\n",
      "[I 2019-02-27 10:12:59,031] Finished trial 200 / 300. Current best value is 0.2392451300984194 with parameters: {'mx_depth': 20.0}.\n",
      "[I 2019-02-27 10:13:49,823] Finished trial 250 / 300. Current best value is 0.2392451300984194 with parameters: {'mx_depth': 20.0}.\n",
      "[I 2019-02-27 10:14:39,420] Finished trial 300 / 300. Current best value is 0.2392451300984194 with parameters: {'mx_depth': 20.0}.\n"
     ]
    }
   ],
   "source": [
    "study3 = optuna.create_study()\n",
    "study3.optimize(objective3, n_trials=300, n_jobs = 1, verb_pace = 50)\n"
   ]
  },
  {
   "cell_type": "code",
   "execution_count": 25,
   "metadata": {},
   "outputs": [],
   "source": [
    "data = load_pkl('tuned_parameters/decision_tree.pkl')\n",
    "save_pkl('tuned_parameters/decison_tree2.pkl', [study3])"
   ]
  },
  {
   "cell_type": "code",
   "execution_count": 26,
   "metadata": {},
   "outputs": [],
   "source": [
    "def objective_class_weight(trial):\n",
    "    params = {\n",
    "    '_min': trial.suggest_uniform('_min', 0.001, 0.005),\n",
    "    'mx_depth': trial.suggest_discrete_uniform('mx_depth', 10, 100, 10),\n",
    "    }\n",
    "    sw = stopwords.words('english') + ['hes']\n",
    "    data = list(zip(train_X, train_Y))\n",
    "    random.shuffle(data)\n",
    "    ff_train, ff_train_a = zip(*data)\n",
    "    ff_train = [' '.join(text) for text in ff_train]\n",
    "    vect = TfidfVectorizer(stop_words=sw,tokenizer=tokenize, \n",
    "                          min_df= params['_min'], max_df=0.75, \n",
    "                          ngram_range=(1,2))\n",
    "    tfidf = vect.fit_transform(ff_train)\n",
    "    tree = dtc(max_depth=abs(params['mx_depth']), \n",
    "               min_samples_split= 0.18,\n",
    "               max_features= 0.85\n",
    "              )\n",
    "\n",
    "    scores = cvt(tree, tfidf, ff_train_a, cv = 4, return_train_score= True, scoring = 'f1_macro', )\n",
    "    test_s = scores['test_score'].mean()\n",
    "    train_s = scores['train_score'].mean()\n",
    "    f_score = 1.0 - float(test_s) + float(abs(train_s-test_s))/2.0\n",
    "    \n",
    "    return f_score"
   ]
  },
  {
   "cell_type": "code",
   "execution_count": 27,
   "metadata": {
    "scrolled": true
   },
   "outputs": [
    {
     "name": "stderr",
     "output_type": "stream",
     "text": [
      "[I 2019-02-27 11:06:50,153] Finished trial 50 / 300. Current best value is 0.24472081719692385 with parameters: {'_min': 0.004786872775332392, 'mx_depth': 30.0}.\n",
      "[I 2019-02-27 11:07:37,071] Finished trial 100 / 300. Current best value is 0.24472081719692385 with parameters: {'_min': 0.004786872775332392, 'mx_depth': 30.0}.\n",
      "[I 2019-02-27 11:08:23,911] Finished trial 150 / 300. Current best value is 0.24345291868434948 with parameters: {'_min': 0.0023715426047840713, 'mx_depth': 20.0}.\n",
      "[I 2019-02-27 11:09:08,879] Finished trial 200 / 300. Current best value is 0.24269605823130108 with parameters: {'_min': 0.004028593139679666, 'mx_depth': 20.0}.\n",
      "[I 2019-02-27 11:09:54,552] Finished trial 250 / 300. Current best value is 0.24269605823130108 with parameters: {'_min': 0.004028593139679666, 'mx_depth': 20.0}.\n",
      "[I 2019-02-27 11:10:39,431] Finished trial 300 / 300. Current best value is 0.24269605823130108 with parameters: {'_min': 0.004028593139679666, 'mx_depth': 20.0}.\n"
     ]
    }
   ],
   "source": [
    "study4 = optuna.create_study()\n",
    "study4.optimize(objective_class_weight, n_trials=300, n_jobs = 1, verb_pace = 50)"
   ]
  },
  {
   "cell_type": "code",
   "execution_count": 29,
   "metadata": {},
   "outputs": [],
   "source": [
    "bests = load_pkl('tuned_parameters/decison_tree2.pkl')\n",
    "bests.append(study4)"
   ]
  },
  {
   "cell_type": "code",
   "execution_count": 31,
   "metadata": {},
   "outputs": [],
   "source": [
    "save_pkl('tuned_parameters/decision_tree.pkl', bests)"
   ]
  },
  {
   "cell_type": "code",
   "execution_count": 32,
   "metadata": {},
   "outputs": [
    {
     "name": "stdout",
     "output_type": "stream",
     "text": [
      "Best Parameter without Any:\n",
      " {'mx_depth': 20.0}\n",
      "Best Parameter without Any:\n",
      " {'_min': 0.004028593139679666, 'mx_depth': 20.0}\n"
     ]
    }
   ],
   "source": [
    "print('Best Parameter without Any:\\n', bests[0].best_params)\n",
    "print('Best Parameter without Any:\\n', bests[1].best_params)"
   ]
  },
  {
   "cell_type": "code",
   "execution_count": 8,
   "metadata": {},
   "outputs": [
    {
     "data": {
      "text/plain": [
       "{'mx_depth': 20.0}"
      ]
     },
     "execution_count": 8,
     "metadata": {},
     "output_type": "execute_result"
    }
   ],
   "source": [
    "a = load_pkl('tuned_parameters/decison_tree2.pkl')\n",
    "a[0].best_params"
   ]
  },
  {
   "cell_type": "code",
   "execution_count": 13,
   "metadata": {},
   "outputs": [],
   "source": [
    "best = {'_min': 0.003941570792418628, '_max': 0.7, 'ngram': (1, 2), 'mx_depth': 20.0, \n",
    " 'mn_sp': 0.17573596009797782, 'mn_lf': 1, 'mx_feat': 0.8376154434188189}\n",
    "save_pkl('tuned_parameters/decision_tree.pkl', best)"
   ]
  },
  {
   "cell_type": "code",
   "execution_count": 11,
   "metadata": {},
   "outputs": [],
   "source": [
    "best_class_weight = {'_min': 0.004, '_max': 0.75, 'ngram': (1, 2), 'mx_depth': 20, 'mn_sp': 0.18, 'mn_lf': 1, 'mx_feat': 0.85}\n",
    "save_pkl('tuned_parameters/decision_tree_class_weight.pkl', best_class_weight)"
   ]
  },
  {
   "cell_type": "code",
   "execution_count": null,
   "metadata": {},
   "outputs": [],
   "source": []
  }
 ],
 "metadata": {
  "kernelspec": {
   "display_name": "Python 3.6",
   "language": "python",
   "name": "python3"
  },
  "language_info": {
   "codemirror_mode": {
    "name": "ipython",
    "version": 3
   },
   "file_extension": ".py",
   "mimetype": "text/x-python",
   "name": "python",
   "nbconvert_exporter": "python",
   "pygments_lexer": "ipython3",
   "version": "3.6.8"
  }
 },
 "nbformat": 4,
 "nbformat_minor": 2
}
