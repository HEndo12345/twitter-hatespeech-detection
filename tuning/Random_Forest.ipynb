{
 "cells": [
  {
   "cell_type": "code",
   "execution_count": 30,
   "metadata": {},
   "outputs": [],
   "source": [
    "from functions import *\n",
    "from sklearn.metrics import confusion_matrix\n",
    "from nltk.corpus import stopwords\n",
    "import sklearn\n",
    "from matplotlib import pyplot as plt\n",
    "import pandas as pd\n",
    "from sklearn.metrics import classification_report\n",
    "import random\n",
    "from sklearn.model_selection import cross_validate as cvt\n",
    "from sklearn.feature_extraction.text import TfidfVectorizer\n",
    "from sklearn.ensemble import RandomForestClassifier\n",
    "from copy import deepcopy as dp\n",
    "\n",
    "def tokenize(text):\n",
    "    return text.split(' ')"
   ]
  },
  {
   "cell_type": "code",
   "execution_count": 33,
   "metadata": {},
   "outputs": [],
   "source": [
    "test, train = load_pkl(r'C:\\Users\\HEndo\\Documents\\GitHub\\zemi\\cleaned_corpus\\base_cleaned.pkl')\n",
    "test_a, train_a = load_pkl(r'C:\\Users\\HEndo\\Documents\\GitHub\\zemi\\cleaned_corpus\\back_up\\org_answer_data.pkl')\n",
    "train_X = dp(train)\n",
    "train_Y = dp(train_a)\n",
    "sw = stopwords.words('english') + ['hes']"
   ]
  },
  {
   "cell_type": "code",
   "execution_count": 47,
   "metadata": {},
   "outputs": [],
   "source": [
    "best_params = []"
   ]
  },
  {
   "cell_type": "code",
   "execution_count": 34,
   "metadata": {},
   "outputs": [],
   "source": [
    "import optuna"
   ]
  },
  {
   "cell_type": "code",
   "execution_count": 39,
   "metadata": {},
   "outputs": [],
   "source": [
    "def objective(trial):\n",
    "    params = {\n",
    "    '_min': trial.suggest_uniform('_min', 0.001, 0.005),\n",
    "    'n_est': trial.suggest_discrete_uniform('n_est', 50, 500, 50),\n",
    "    'mx_depth': trial.suggest_discrete_uniform('mx_depth', 5, 150, 5),\n",
    "    'mn_sp': trial.suggest_uniform('mn_sp', 0.1, 0.3),\n",
    "    'mx_feat': trial.suggest_uniform('mx_feat', 0.7, 1.0)\n",
    "    }\n",
    "    data = list(zip(train_X, train_Y))\n",
    "    random.shuffle(data)\n",
    "    ff_train, ff_train_a = zip(*data)\n",
    "    ff_train = [' '.join(text) for text in ff_train]\n",
    "    vect = TfidfVectorizer(stop_words=sw,tokenizer=tokenize, \n",
    "                          min_df= params['_min'], max_df=0.85, \n",
    "                          ngram_range=(1,2))\n",
    "    tfidf = vect.fit_transform(ff_train)\n",
    "    tree = RandomForestClassifier(n_estimators=abs(params['n_est'].astype('int8')), \n",
    "                                 max_depth=params['mx_depth'], \n",
    "               min_samples_split= params['mn_sp'],\n",
    "               max_features= params['mx_feat']\n",
    "              )\n",
    "\n",
    "    scores = cvt(tree, tfidf, ff_train_a, cv = 4, return_train_score= True, scoring = 'f1_macro', )\n",
    "    test_s = scores['test_score'].mean()\n",
    "    train_s = scores['train_score'].mean()\n",
    "    f_score = 1.0 - float(test_s) + float(abs(train_s-test_s))/2.0\n",
    "    return f_score"
   ]
  },
  {
   "cell_type": "code",
   "execution_count": 40,
   "metadata": {},
   "outputs": [],
   "source": [
    "import warnings\n",
    "warnings.filterwarnings('ignore')\n",
    "optuna.logging.enable_default_handler()\n"
   ]
  },
  {
   "cell_type": "code",
   "execution_count": 41,
   "metadata": {
    "scrolled": true
   },
   "outputs": [
    {
     "name": "stderr",
     "output_type": "stream",
     "text": [
      "[I 2019-02-27 18:03:16,503] Finished trial 50 / 500. Current best value is 0.25076865943319804 with parameters: {'_min': 0.001982792983953625, 'n_est': 300.0, 'mx_depth': 55.0, 'mn_sp': 0.12057953801653995, 'mx_feat': 0.9380754044722736}.\n",
      "[I 2019-02-27 18:03:17,634] Finished trial 50 / 500. Current best value is 0.25076865943319804 with parameters: {'_min': 0.001982792983953625, 'n_est': 300.0, 'mx_depth': 55.0, 'mn_sp': 0.12057953801653995, 'mx_feat': 0.9380754044722736}.\n",
      "[I 2019-02-27 18:08:00,402] Finished trial 100 / 500. Current best value is 0.24995134025131455 with parameters: {'_min': 0.004398091343846016, 'n_est': 150.0, 'mx_depth': 35.0, 'mn_sp': 0.10665131241390491, 'mx_feat': 0.9633833625884614}.\n",
      "[I 2019-02-27 18:08:01,452] Finished trial 100 / 500. Current best value is 0.24995134025131455 with parameters: {'_min': 0.004398091343846016, 'n_est': 150.0, 'mx_depth': 35.0, 'mn_sp': 0.10665131241390491, 'mx_feat': 0.9633833625884614}.\n",
      "[I 2019-02-27 18:08:02,510] Finished trial 100 / 500. Current best value is 0.24995134025131455 with parameters: {'_min': 0.004398091343846016, 'n_est': 150.0, 'mx_depth': 35.0, 'mn_sp': 0.10665131241390491, 'mx_feat': 0.9633833625884614}.\n",
      "[I 2019-02-27 18:08:03,568] Finished trial 100 / 500. Current best value is 0.24995134025131455 with parameters: {'_min': 0.004398091343846016, 'n_est': 150.0, 'mx_depth': 35.0, 'mn_sp': 0.10665131241390491, 'mx_feat': 0.9633833625884614}.\n",
      "[I 2019-02-27 18:11:23,010] Finished trial 150 / 500. Current best value is 0.24718209895396087 with parameters: {'_min': 0.002588690474480069, 'n_est': 400.0, 'mx_depth': 20.0, 'mn_sp': 0.13072707523974134, 'mx_feat': 0.9892759813780303}.\n",
      "[I 2019-02-27 18:11:24,085] Finished trial 150 / 500. Current best value is 0.24718209895396087 with parameters: {'_min': 0.002588690474480069, 'n_est': 400.0, 'mx_depth': 20.0, 'mn_sp': 0.13072707523974134, 'mx_feat': 0.9892759813780303}.\n",
      "[I 2019-02-27 18:11:25,266] Finished trial 150 / 500. Current best value is 0.24718209895396087 with parameters: {'_min': 0.002588690474480069, 'n_est': 400.0, 'mx_depth': 20.0, 'mn_sp': 0.13072707523974134, 'mx_feat': 0.9892759813780303}.\n",
      "[I 2019-02-27 18:15:35,835] Finished trial 200 / 500. Current best value is 0.24447278872365802 with parameters: {'_min': 0.002794488514730662, 'n_est': 400.0, 'mx_depth': 40.0, 'mn_sp': 0.12907614211118448, 'mx_feat': 0.9262708937429789}.\n",
      "[I 2019-02-27 18:15:36,895] Finished trial 200 / 500. Current best value is 0.24447278872365802 with parameters: {'_min': 0.002794488514730662, 'n_est': 400.0, 'mx_depth': 40.0, 'mn_sp': 0.12907614211118448, 'mx_feat': 0.9262708937429789}.\n",
      "[I 2019-02-27 18:15:37,957] Finished trial 200 / 500. Current best value is 0.24447278872365802 with parameters: {'_min': 0.002794488514730662, 'n_est': 400.0, 'mx_depth': 40.0, 'mn_sp': 0.12907614211118448, 'mx_feat': 0.9262708937429789}.\n",
      "[I 2019-02-27 18:15:39,022] Finished trial 200 / 500. Current best value is 0.24447278872365802 with parameters: {'_min': 0.002794488514730662, 'n_est': 400.0, 'mx_depth': 40.0, 'mn_sp': 0.12907614211118448, 'mx_feat': 0.9262708937429789}.\n",
      "[I 2019-02-27 18:20:02,052] Finished trial 250 / 500. Current best value is 0.24436163925257132 with parameters: {'_min': 0.0029000588656123713, 'n_est': 350.0, 'mx_depth': 20.0, 'mn_sp': 0.1170157265615724, 'mx_feat': 0.9367344393744674}.\n",
      "[I 2019-02-27 18:20:03,213] Finished trial 250 / 500. Current best value is 0.24436163925257132 with parameters: {'_min': 0.0029000588656123713, 'n_est': 350.0, 'mx_depth': 20.0, 'mn_sp': 0.1170157265615724, 'mx_feat': 0.9367344393744674}.\n",
      "[I 2019-02-27 18:20:04,279] Finished trial 250 / 500. Current best value is 0.24436163925257132 with parameters: {'_min': 0.0029000588656123713, 'n_est': 350.0, 'mx_depth': 20.0, 'mn_sp': 0.1170157265615724, 'mx_feat': 0.9367344393744674}.\n",
      "[I 2019-02-27 18:20:05,376] Finished trial 250 / 500. Current best value is 0.24436163925257132 with parameters: {'_min': 0.0029000588656123713, 'n_est': 350.0, 'mx_depth': 20.0, 'mn_sp': 0.1170157265615724, 'mx_feat': 0.9367344393744674}.\n",
      "[I 2019-02-27 18:20:06,488] Finished trial 250 / 500. Current best value is 0.24436163925257132 with parameters: {'_min': 0.0029000588656123713, 'n_est': 350.0, 'mx_depth': 20.0, 'mn_sp': 0.1170157265615724, 'mx_feat': 0.9367344393744674}.\n",
      "[I 2019-02-27 18:26:28,016] Finished trial 300 / 500. Current best value is 0.2433135887822407 with parameters: {'_min': 0.003055190918665822, 'n_est': 450.0, 'mx_depth': 20.0, 'mn_sp': 0.10008931508983152, 'mx_feat': 0.9390196166693994}.\n",
      "[I 2019-02-27 18:26:29,088] Finished trial 300 / 500. Current best value is 0.2433135887822407 with parameters: {'_min': 0.003055190918665822, 'n_est': 450.0, 'mx_depth': 20.0, 'mn_sp': 0.10008931508983152, 'mx_feat': 0.9390196166693994}.\n",
      "[I 2019-02-27 18:26:30,174] Finished trial 300 / 500. Current best value is 0.2433135887822407 with parameters: {'_min': 0.003055190918665822, 'n_est': 450.0, 'mx_depth': 20.0, 'mn_sp': 0.10008931508983152, 'mx_feat': 0.9390196166693994}.\n",
      "[I 2019-02-27 18:26:31,255] Finished trial 300 / 500. Current best value is 0.2433135887822407 with parameters: {'_min': 0.003055190918665822, 'n_est': 450.0, 'mx_depth': 20.0, 'mn_sp': 0.10008931508983152, 'mx_feat': 0.9390196166693994}.\n",
      "[I 2019-02-27 18:26:32,336] Finished trial 300 / 500. Current best value is 0.2433135887822407 with parameters: {'_min': 0.003055190918665822, 'n_est': 450.0, 'mx_depth': 20.0, 'mn_sp': 0.10008931508983152, 'mx_feat': 0.9390196166693994}.\n",
      "[I 2019-02-27 18:26:33,436] Finished trial 300 / 500. Current best value is 0.2433135887822407 with parameters: {'_min': 0.003055190918665822, 'n_est': 450.0, 'mx_depth': 20.0, 'mn_sp': 0.10008931508983152, 'mx_feat': 0.9390196166693994}.\n",
      "[I 2019-02-27 18:26:34,581] Finished trial 300 / 500. Current best value is 0.2433135887822407 with parameters: {'_min': 0.003055190918665822, 'n_est': 450.0, 'mx_depth': 20.0, 'mn_sp': 0.10008931508983152, 'mx_feat': 0.9390196166693994}.\n",
      "[I 2019-02-27 18:26:35,664] Finished trial 300 / 500. Current best value is 0.2433135887822407 with parameters: {'_min': 0.003055190918665822, 'n_est': 450.0, 'mx_depth': 20.0, 'mn_sp': 0.10008931508983152, 'mx_feat': 0.9390196166693994}.\n",
      "[I 2019-02-27 18:26:36,747] Finished trial 300 / 500. Current best value is 0.2433135887822407 with parameters: {'_min': 0.003055190918665822, 'n_est': 450.0, 'mx_depth': 20.0, 'mn_sp': 0.10008931508983152, 'mx_feat': 0.9390196166693994}.\n",
      "[I 2019-02-27 18:26:37,843] Finished trial 300 / 500. Current best value is 0.2433135887822407 with parameters: {'_min': 0.003055190918665822, 'n_est': 450.0, 'mx_depth': 20.0, 'mn_sp': 0.10008931508983152, 'mx_feat': 0.9390196166693994}.\n",
      "[I 2019-02-27 18:26:38,984] Finished trial 300 / 500. Current best value is 0.2433135887822407 with parameters: {'_min': 0.003055190918665822, 'n_est': 450.0, 'mx_depth': 20.0, 'mn_sp': 0.10008931508983152, 'mx_feat': 0.9390196166693994}.\n",
      "[I 2019-02-27 18:26:40,084] Finished trial 300 / 500. Current best value is 0.2433135887822407 with parameters: {'_min': 0.003055190918665822, 'n_est': 450.0, 'mx_depth': 20.0, 'mn_sp': 0.10008931508983152, 'mx_feat': 0.9390196166693994}.\n",
      "[I 2019-02-27 18:29:49,480] Finished trial 350 / 500. Current best value is 0.2433135887822407 with parameters: {'_min': 0.003055190918665822, 'n_est': 450.0, 'mx_depth': 20.0, 'mn_sp': 0.10008931508983152, 'mx_feat': 0.9390196166693994}.\n",
      "[I 2019-02-27 18:29:50,707] Finished trial 350 / 500. Current best value is 0.2433135887822407 with parameters: {'_min': 0.003055190918665822, 'n_est': 450.0, 'mx_depth': 20.0, 'mn_sp': 0.10008931508983152, 'mx_feat': 0.9390196166693994}.\n",
      "[I 2019-02-27 18:29:51,772] Finished trial 350 / 500. Current best value is 0.2433135887822407 with parameters: {'_min': 0.003055190918665822, 'n_est': 450.0, 'mx_depth': 20.0, 'mn_sp': 0.10008931508983152, 'mx_feat': 0.9390196166693994}.\n",
      "[I 2019-02-27 18:29:52,900] Finished trial 350 / 500. Current best value is 0.2433135887822407 with parameters: {'_min': 0.003055190918665822, 'n_est': 450.0, 'mx_depth': 20.0, 'mn_sp': 0.10008931508983152, 'mx_feat': 0.9390196166693994}.\n",
      "[I 2019-02-27 18:29:54,027] Finished trial 350 / 500. Current best value is 0.2433135887822407 with parameters: {'_min': 0.003055190918665822, 'n_est': 450.0, 'mx_depth': 20.0, 'mn_sp': 0.10008931508983152, 'mx_feat': 0.9390196166693994}.\n",
      "[I 2019-02-27 18:29:55,148] Finished trial 350 / 500. Current best value is 0.2433135887822407 with parameters: {'_min': 0.003055190918665822, 'n_est': 450.0, 'mx_depth': 20.0, 'mn_sp': 0.10008931508983152, 'mx_feat': 0.9390196166693994}.\n",
      "[I 2019-02-27 18:29:56,241] Finished trial 350 / 500. Current best value is 0.2433135887822407 with parameters: {'_min': 0.003055190918665822, 'n_est': 450.0, 'mx_depth': 20.0, 'mn_sp': 0.10008931508983152, 'mx_feat': 0.9390196166693994}.\n",
      "[I 2019-02-27 18:29:57,338] Finished trial 350 / 500. Current best value is 0.2433135887822407 with parameters: {'_min': 0.003055190918665822, 'n_est': 450.0, 'mx_depth': 20.0, 'mn_sp': 0.10008931508983152, 'mx_feat': 0.9390196166693994}.\n",
      "[I 2019-02-27 18:29:58,466] Finished trial 350 / 500. Current best value is 0.2433135887822407 with parameters: {'_min': 0.003055190918665822, 'n_est': 450.0, 'mx_depth': 20.0, 'mn_sp': 0.10008931508983152, 'mx_feat': 0.9390196166693994}.\n",
      "[I 2019-02-27 18:29:59,548] Finished trial 350 / 500. Current best value is 0.2433135887822407 with parameters: {'_min': 0.003055190918665822, 'n_est': 450.0, 'mx_depth': 20.0, 'mn_sp': 0.10008931508983152, 'mx_feat': 0.9390196166693994}.\n",
      "[I 2019-02-27 18:30:00,647] Finished trial 350 / 500. Current best value is 0.2433135887822407 with parameters: {'_min': 0.003055190918665822, 'n_est': 450.0, 'mx_depth': 20.0, 'mn_sp': 0.10008931508983152, 'mx_feat': 0.9390196166693994}.\n",
      "[I 2019-02-27 18:30:01,746] Finished trial 350 / 500. Current best value is 0.2433135887822407 with parameters: {'_min': 0.003055190918665822, 'n_est': 450.0, 'mx_depth': 20.0, 'mn_sp': 0.10008931508983152, 'mx_feat': 0.9390196166693994}.\n",
      "[I 2019-02-27 18:30:02,824] Finished trial 350 / 500. Current best value is 0.2433135887822407 with parameters: {'_min': 0.003055190918665822, 'n_est': 450.0, 'mx_depth': 20.0, 'mn_sp': 0.10008931508983152, 'mx_feat': 0.9390196166693994}.\n",
      "[I 2019-02-27 18:30:03,936] Finished trial 350 / 500. Current best value is 0.2433135887822407 with parameters: {'_min': 0.003055190918665822, 'n_est': 450.0, 'mx_depth': 20.0, 'mn_sp': 0.10008931508983152, 'mx_feat': 0.9390196166693994}.\n",
      "[I 2019-02-27 18:35:14,562] Finished trial 400 / 500. Current best value is 0.2433135887822407 with parameters: {'_min': 0.003055190918665822, 'n_est': 450.0, 'mx_depth': 20.0, 'mn_sp': 0.10008931508983152, 'mx_feat': 0.9390196166693994}.\n",
      "[I 2019-02-27 18:35:15,650] Finished trial 400 / 500. Current best value is 0.2433135887822407 with parameters: {'_min': 0.003055190918665822, 'n_est': 450.0, 'mx_depth': 20.0, 'mn_sp': 0.10008931508983152, 'mx_feat': 0.9390196166693994}.\n",
      "[I 2019-02-27 18:35:16,733] Finished trial 400 / 500. Current best value is 0.2433135887822407 with parameters: {'_min': 0.003055190918665822, 'n_est': 450.0, 'mx_depth': 20.0, 'mn_sp': 0.10008931508983152, 'mx_feat': 0.9390196166693994}.\n",
      "[I 2019-02-27 18:35:17,949] Finished trial 400 / 500. Current best value is 0.2433135887822407 with parameters: {'_min': 0.003055190918665822, 'n_est': 450.0, 'mx_depth': 20.0, 'mn_sp': 0.10008931508983152, 'mx_feat': 0.9390196166693994}.\n",
      "[I 2019-02-27 18:35:19,036] Finished trial 400 / 500. Current best value is 0.2433135887822407 with parameters: {'_min': 0.003055190918665822, 'n_est': 450.0, 'mx_depth': 20.0, 'mn_sp': 0.10008931508983152, 'mx_feat': 0.9390196166693994}.\n",
      "[I 2019-02-27 18:41:42,354] Finished trial 450 / 500. Current best value is 0.24299381679791526 with parameters: {'_min': 0.0033950443296979203, 'n_est': 400.0, 'mx_depth': 20.0, 'mn_sp': 0.1268469903355746, 'mx_feat': 0.9097354956132974}.\n",
      "[I 2019-02-27 18:41:43,549] Finished trial 450 / 500. Current best value is 0.24299381679791526 with parameters: {'_min': 0.0033950443296979203, 'n_est': 400.0, 'mx_depth': 20.0, 'mn_sp': 0.1268469903355746, 'mx_feat': 0.9097354956132974}.\n",
      "[I 2019-02-27 18:41:44,654] Finished trial 450 / 500. Current best value is 0.24299381679791526 with parameters: {'_min': 0.0033950443296979203, 'n_est': 400.0, 'mx_depth': 20.0, 'mn_sp': 0.1268469903355746, 'mx_feat': 0.9097354956132974}.\n",
      "[I 2019-02-27 18:41:45,811] Finished trial 450 / 500. Current best value is 0.24299381679791526 with parameters: {'_min': 0.0033950443296979203, 'n_est': 400.0, 'mx_depth': 20.0, 'mn_sp': 0.1268469903355746, 'mx_feat': 0.9097354956132974}.\n"
     ]
    }
   ],
   "source": [
    "study = optuna.create_study()\n",
    "study.optimize(objective, n_trials=500, n_jobs = -1, verb_pace = 50)\n"
   ]
  },
  {
   "cell_type": "code",
   "execution_count": 42,
   "metadata": {},
   "outputs": [
    {
     "name": "stdout",
     "output_type": "stream",
     "text": [
      "{'_min': 0.0033950443296979203, 'n_est': 400.0, 'mx_depth': 20.0, 'mn_sp': 0.1268469903355746, 'mx_feat': 0.9097354956132974}\n",
      "0.24299381679791526\n",
      "FrozenTrial(trial_id=439, state=<TrialState.COMPLETE: 1>, value=0.24299381679791526, datetime_start=datetime.datetime(2019, 2, 27, 18, 40, 47, 114798), datetime_complete=datetime.datetime(2019, 2, 27, 18, 41, 22, 879564), params={'_min': 0.0033950443296979203, 'n_est': 400.0, 'mx_depth': 20.0, 'mn_sp': 0.1268469903355746, 'mx_feat': 0.9097354956132974}, user_attrs={}, system_attrs={}, intermediate_values={}, params_in_internal_repr={'_min': 0.0033950443296979203, 'n_est': 400.0, 'mx_depth': 20.0, 'mn_sp': 0.1268469903355746, 'mx_feat': 0.9097354956132974})\n"
     ]
    }
   ],
   "source": [
    "print(study.best_params)\n",
    "print(study.best_value)\n",
    "print(study.best_trial)"
   ]
  },
  {
   "cell_type": "code",
   "execution_count": 48,
   "metadata": {},
   "outputs": [],
   "source": [
    "best_params.append(study.best_params)"
   ]
  },
  {
   "cell_type": "code",
   "execution_count": 46,
   "metadata": {},
   "outputs": [],
   "source": [
    "def objective2(trial):\n",
    "    params = {\n",
    "    'n_est': trial.suggest_discrete_uniform('n_est', 50, 500, 50),\n",
    "    'mx_depth': trial.suggest_discrete_uniform('mx_depth', 10, 50, 10),\n",
    "    }\n",
    "    sw = stopwords.words('english') + ['hes']\n",
    "    data = list(zip(train_X, train_Y))\n",
    "    random.shuffle(data)\n",
    "    ff_train, ff_train_a = zip(*data)\n",
    "    ff_train = [' '.join(text) for text in ff_train]\n",
    "    vect = TfidfVectorizer(stop_words=sw,tokenizer=tokenize, \n",
    "                          min_df= 0.003, max_df=0.85, \n",
    "                          ngram_range=(1,2))\n",
    "    tfidf = vect.fit_transform(ff_train)\n",
    "    tree = RandomForestClassifier(\n",
    "               n_estimators= abs(params['n_est'].astype('int8')),\n",
    "               max_depth=abs(params['mx_depth']), \n",
    "               min_samples_split= 0.12,\n",
    "               max_features= 0.915\n",
    "              )\n",
    "\n",
    "    scores = cvt(tree, tfidf, ff_train_a, cv = 4, return_train_score= True, scoring = 'f1_macro')\n",
    "    test_s = scores['test_score'].mean()\n",
    "    train_s = scores['train_score'].mean()\n",
    "    f_score = 1.0 - float(test_s) + float(abs(train_s-test_s))/2.0\n",
    "    \n",
    "    return f_score"
   ]
  },
  {
   "cell_type": "code",
   "execution_count": 49,
   "metadata": {
    "scrolled": true
   },
   "outputs": [
    {
     "name": "stderr",
     "output_type": "stream",
     "text": [
      "[I 2019-02-27 19:23:01,444] Finished trial 30 / 150. Current best value is 0.24272488863060032 with parameters: {'n_est': 50.0, 'mx_depth': 30.0}.\n",
      "[I 2019-02-27 19:23:02,485] Finished trial 30 / 150. Current best value is 0.24272488863060032 with parameters: {'n_est': 50.0, 'mx_depth': 30.0}.\n",
      "[I 2019-02-27 19:23:03,529] Finished trial 30 / 150. Current best value is 0.24272488863060032 with parameters: {'n_est': 50.0, 'mx_depth': 30.0}.\n",
      "[I 2019-02-27 19:23:04,533] Finished trial 30 / 150. Current best value is 0.24272488863060032 with parameters: {'n_est': 50.0, 'mx_depth': 30.0}.\n",
      "[I 2019-02-27 19:26:57,326] Finished trial 60 / 150. Current best value is 0.24272488863060032 with parameters: {'n_est': 50.0, 'mx_depth': 30.0}.\n",
      "[I 2019-02-27 19:26:58,437] Finished trial 60 / 150. Current best value is 0.24272488863060032 with parameters: {'n_est': 50.0, 'mx_depth': 30.0}.\n",
      "[I 2019-02-27 19:26:59,485] Finished trial 60 / 150. Current best value is 0.24272488863060032 with parameters: {'n_est': 50.0, 'mx_depth': 30.0}.\n",
      "[I 2019-02-27 19:30:57,585] Finished trial 90 / 150. Current best value is 0.24272488863060032 with parameters: {'n_est': 50.0, 'mx_depth': 30.0}.\n",
      "[I 2019-02-27 19:30:58,663] Finished trial 90 / 150. Current best value is 0.24272488863060032 with parameters: {'n_est': 50.0, 'mx_depth': 30.0}.\n",
      "[I 2019-02-27 19:30:59,715] Finished trial 90 / 150. Current best value is 0.24272488863060032 with parameters: {'n_est': 50.0, 'mx_depth': 30.0}.\n",
      "[I 2019-02-27 19:31:00,781] Finished trial 90 / 150. Current best value is 0.24272488863060032 with parameters: {'n_est': 50.0, 'mx_depth': 30.0}.\n",
      "[I 2019-02-27 19:31:01,802] Finished trial 90 / 150. Current best value is 0.24272488863060032 with parameters: {'n_est': 50.0, 'mx_depth': 30.0}.\n",
      "[I 2019-02-27 19:31:02,851] Finished trial 90 / 150. Current best value is 0.24272488863060032 with parameters: {'n_est': 50.0, 'mx_depth': 30.0}.\n",
      "[I 2019-02-27 19:31:03,934] Finished trial 90 / 150. Current best value is 0.24272488863060032 with parameters: {'n_est': 50.0, 'mx_depth': 30.0}.\n",
      "[I 2019-02-27 19:31:04,969] Finished trial 90 / 150. Current best value is 0.24272488863060032 with parameters: {'n_est': 50.0, 'mx_depth': 30.0}.\n",
      "[I 2019-02-27 19:31:06,036] Finished trial 90 / 150. Current best value is 0.24272488863060032 with parameters: {'n_est': 50.0, 'mx_depth': 30.0}.\n",
      "[I 2019-02-27 19:31:07,072] Finished trial 90 / 150. Current best value is 0.24272488863060032 with parameters: {'n_est': 50.0, 'mx_depth': 30.0}.\n",
      "[I 2019-02-27 19:31:08,126] Finished trial 90 / 150. Current best value is 0.24272488863060032 with parameters: {'n_est': 50.0, 'mx_depth': 30.0}.\n",
      "[I 2019-02-27 19:31:09,160] Finished trial 90 / 150. Current best value is 0.24272488863060032 with parameters: {'n_est': 50.0, 'mx_depth': 30.0}.\n",
      "[I 2019-02-27 19:31:10,211] Finished trial 90 / 150. Current best value is 0.24272488863060032 with parameters: {'n_est': 50.0, 'mx_depth': 30.0}.\n",
      "[I 2019-02-27 19:31:11,222] Finished trial 90 / 150. Current best value is 0.24272488863060032 with parameters: {'n_est': 50.0, 'mx_depth': 30.0}.\n",
      "[I 2019-02-27 19:31:12,263] Finished trial 90 / 150. Current best value is 0.24272488863060032 with parameters: {'n_est': 50.0, 'mx_depth': 30.0}.\n",
      "[I 2019-02-27 19:31:13,281] Finished trial 90 / 150. Current best value is 0.24272488863060032 with parameters: {'n_est': 50.0, 'mx_depth': 30.0}.\n",
      "[I 2019-02-27 19:34:48,133] Finished trial 120 / 150. Current best value is 0.24272488863060032 with parameters: {'n_est': 50.0, 'mx_depth': 30.0}.\n",
      "[I 2019-02-27 19:34:49,177] Finished trial 120 / 150. Current best value is 0.24272488863060032 with parameters: {'n_est': 50.0, 'mx_depth': 30.0}.\n",
      "[I 2019-02-27 19:34:50,209] Finished trial 120 / 150. Current best value is 0.24272488863060032 with parameters: {'n_est': 50.0, 'mx_depth': 30.0}.\n",
      "[I 2019-02-27 19:34:51,282] Finished trial 120 / 150. Current best value is 0.24272488863060032 with parameters: {'n_est': 50.0, 'mx_depth': 30.0}.\n",
      "[I 2019-02-27 19:34:52,302] Finished trial 120 / 150. Current best value is 0.24272488863060032 with parameters: {'n_est': 50.0, 'mx_depth': 30.0}.\n",
      "[I 2019-02-27 19:34:53,385] Finished trial 120 / 150. Current best value is 0.24272488863060032 with parameters: {'n_est': 50.0, 'mx_depth': 30.0}.\n",
      "[I 2019-02-27 19:34:54,404] Finished trial 120 / 150. Current best value is 0.24272488863060032 with parameters: {'n_est': 50.0, 'mx_depth': 30.0}.\n",
      "[I 2019-02-27 19:34:55,469] Finished trial 120 / 150. Current best value is 0.24272488863060032 with parameters: {'n_est': 50.0, 'mx_depth': 30.0}.\n"
     ]
    }
   ],
   "source": [
    "study2 = optuna.create_study()\n",
    "study2.optimize(objective2, n_trials=150, n_jobs = -1, verb_pace = 30)\n",
    "best_params.append(study2.best_params)"
   ]
  },
  {
   "cell_type": "code",
   "execution_count": 54,
   "metadata": {},
   "outputs": [],
   "source": [
    "def objective_class_weight(trial):\n",
    "    params = {\n",
    "    'n_est': trial.suggest_discrete_uniform('n_est', 10, 100, 10),\n",
    "    'mx_depth': trial.suggest_categorical('mx_depth', [20, 30])\n",
    "    }\n",
    "    sw = stopwords.words('english') + ['hes']\n",
    "    data = list(zip(train_X, train_Y))\n",
    "    random.shuffle(data)\n",
    "    ff_train, ff_train_a = zip(*data)\n",
    "    ff_train = [' '.join(text) for text in ff_train]\n",
    "    vect = TfidfVectorizer(stop_words=sw,tokenizer=tokenize, \n",
    "                          min_df= 0.003, max_df=0.85, \n",
    "                          ngram_range=(1,2))\n",
    "    tfidf = vect.fit_transform(ff_train)\n",
    "    tree = RandomForestClassifier(\n",
    "               n_estimators= abs(params['n_est'].astype('int8')),\n",
    "               max_depth=abs(params['mx_depth']), \n",
    "               min_samples_split= 0.12,\n",
    "               max_features= 0.915,\n",
    "               class_weight= 'balanced'\n",
    "              )\n",
    "\n",
    "    scores = cvt(tree, tfidf, ff_train_a, cv = 4, return_train_score= True, scoring = 'f1_macro')\n",
    "    test_s = scores['test_score'].mean()\n",
    "    train_s = scores['train_score'].mean()\n",
    "    f_score = 1.0 - float(test_s) + float(abs(train_s-test_s))/2.0\n",
    "    \n",
    "    return f_score"
   ]
  },
  {
   "cell_type": "code",
   "execution_count": 55,
   "metadata": {
    "scrolled": true
   },
   "outputs": [],
   "source": [
    "study3 = optuna.create_study()\n",
    "study3.optimize(objective_class_weight, n_trials=30, n_jobs = -1, verb_pace = 30)\n",
    "best_params.append(study3.best_params)"
   ]
  },
  {
   "cell_type": "code",
   "execution_count": 56,
   "metadata": {},
   "outputs": [
    {
     "name": "stdout",
     "output_type": "stream",
     "text": [
      "{'n_est': 60.0, 'mx_depth': 30}\n",
      "0.2504425910636287\n"
     ]
    }
   ],
   "source": [
    "print(study3.best_params)\n",
    "print(study3.best_value)"
   ]
  },
  {
   "cell_type": "code",
   "execution_count": 60,
   "metadata": {},
   "outputs": [
    {
     "data": {
      "text/plain": [
       "[{'_min': 0.0033950443296979203,\n",
       "  'n_est': 400.0,\n",
       "  'mx_depth': 20.0,\n",
       "  'mn_sp': 0.1268469903355746,\n",
       "  'mx_feat': 0.9097354956132974},\n",
       " {'n_est': 50.0, 'mx_depth': 30.0},\n",
       " {'n_est': 60.0, 'mx_depth': 30}]"
      ]
     },
     "execution_count": 60,
     "metadata": {},
     "output_type": "execute_result"
    }
   ],
   "source": [
    "best_params"
   ]
  },
  {
   "cell_type": "code",
   "execution_count": 66,
   "metadata": {},
   "outputs": [],
   "source": [
    "best = {'_min': 0.0033950443296979203,\n",
    "  '_max':0.85,\n",
    "  'n_est': 50,\n",
    "  'mx_depth': 20.0,\n",
    "  'mn_sp': 0.1268469903355746,\n",
    "  'mx_feat': 0.9097354956132974}\n",
    "save_pkl('tuned_parameters/random_forest.pkl', best)"
   ]
  },
  {
   "cell_type": "code",
   "execution_count": 67,
   "metadata": {},
   "outputs": [],
   "source": [
    "best_class_weight = {'_min': 0.003,\n",
    "  '_max':0.85,\n",
    "  'n_est': 60,\n",
    "  'mx_depth': 30,\n",
    "  'mn_sp': 0.12,\n",
    "  'mx_feat': 0.915}\n",
    "save_pkl('tuned_parameters/random_forest_class_weight.pkl', best_class_weight)"
   ]
  },
  {
   "cell_type": "code",
   "execution_count": null,
   "metadata": {},
   "outputs": [],
   "source": []
  }
 ],
 "metadata": {
  "kernelspec": {
   "display_name": "Python 3.6",
   "language": "python",
   "name": "python3"
  },
  "language_info": {
   "codemirror_mode": {
    "name": "ipython",
    "version": 3
   },
   "file_extension": ".py",
   "mimetype": "text/x-python",
   "name": "python",
   "nbconvert_exporter": "python",
   "pygments_lexer": "ipython3",
   "version": "3.6.8"
  }
 },
 "nbformat": 4,
 "nbformat_minor": 2
}
