{
 "cells": [
  {
   "cell_type": "code",
   "execution_count": 37,
   "metadata": {
    "scrolled": true
   },
   "outputs": [],
   "source": [
    "import numpy as np\n",
    "from keras.models import Sequential, load_model\n",
    "from keras.layers import Dense, Activation\n",
    "from keras.layers import LSTM, Dropout\n",
    "from keras.layers.embeddings import Embedding\n",
    "from keras.preprocessing import sequence\n",
    "import random\n",
    "from matplotlib import pyplot as plt\n",
    "from keras.wrappers.scikit_learn import KerasClassifier\n",
    "from functions import *\n",
    "import pandas as pd\n",
    "import seaborn as sns\n",
    "from sklearn.metrics import confusion_matrix\n",
    "from sklearn.metrics import f1_score\n",
    "from copy import deepcopy as dp\n",
    "from keras.callbacks import EarlyStopping, ModelCheckpoint\n",
    "from keras.metrics import categorical_accuracy\n",
    "import os\n",
    "from keras import backend as K \n",
    "import optuna\n",
    "from keras.optimizers import Adam\n",
    "def print_cmx(y_true, y_pred):\n",
    "    cmx_data = confusion_matrix(y_true, y_pred)\n",
    "    \n",
    "    df_cmx = pd.DataFrame(cmx_data, index=['hate','offend','neither'], columns=['hate','offend','neither'])\n",
    "    df_cmx = df_cmx.div(df_cmx.sum(axis=1), axis=0)*100\n",
    "    \n",
    "    plt.figure(figsize = (10,7))\n",
    "    sns.heatmap(df_cmx, annot=True)\n",
    "    plt.show()\n",
    "    return df_cmx\n",
    "\n",
    "def tokenize(text):\n",
    "    return text.split(' ')"
   ]
  },
  {
   "cell_type": "code",
   "execution_count": 38,
   "metadata": {},
   "outputs": [],
   "source": [
    "def gen_model(hidden, drop, vocab_size, embed):\n",
    "    model = Sequential()\n",
    "    model.add(Embedding(vocab_size, 20, input_length = embed, mask_zero = True))\n",
    "    model.add(LSTM(hidden))\n",
    "    model.add(Dropout(drop))\n",
    "    model.add(Dense(3))\n",
    "    model.add(Activation('softmax'))\n",
    "    \n",
    "    return model"
   ]
  },
  {
   "cell_type": "code",
   "execution_count": 14,
   "metadata": {},
   "outputs": [],
   "source": [
    "import warnings\n",
    "warnings.filterwarnings('ignore')\n",
    "optuna.logging.enable_default_handler()"
   ]
  },
  {
   "cell_type": "code",
   "execution_count": 15,
   "metadata": {},
   "outputs": [],
   "source": [
    "data, w_i, i_d = load_pkl(r'C:\\Users\\HEndo\\Documents\\GitHub\\zemi\\cleaned_corpus\\base_model_input.pkl')\n",
    "test_a, train_a = load_pkl(r'C:\\Users\\HEndo\\Documents\\GitHub\\zemi\\cleaned_corpus\\answer_data.pkl')\n",
    "test, train = data\n",
    "\n",
    "sets = list(zip(train, train_a))\n",
    "random.shuffle(sets)\n",
    "hate = [text for text in sets if np.argmax(text[1]) == 0]\n",
    "off = [text for text in sets if np.argmax(text[1]) == 1]\n",
    "nei = [text for text in sets if np.argmax(text[1]) == 2]\n",
    "train_set = []\n",
    "valid_set = []\n",
    "for i in [hate, off, nei]:\n",
    "    random.shuffle(i)\n",
    "    train_set.extend(i[round(len(i)*0.2):])\n",
    "    valid_set.extend(i[:round(len(i)*0.2)])"
   ]
  },
  {
   "cell_type": "code",
   "execution_count": 16,
   "metadata": {},
   "outputs": [],
   "source": [
    "random.shuffle(train_set)\n",
    "train_X, train_y = zip(*train_set)\n",
    "valid_X, valid_y = zip(*valid_set)"
   ]
  },
  {
   "cell_type": "code",
   "execution_count": 17,
   "metadata": {},
   "outputs": [],
   "source": [
    "es = EarlyStopping(monitor='val_loss', mode='min', verbose=1, patience=2, min_delta=0.005)\n"
   ]
  },
  {
   "cell_type": "code",
   "execution_count": 18,
   "metadata": {},
   "outputs": [],
   "source": [
    "vocab_size = len(w_i)\n",
    "embed_size = len(train_X[0])"
   ]
  },
  {
   "cell_type": "code",
   "execution_count": 19,
   "metadata": {},
   "outputs": [],
   "source": [
    "from keras.backend import tensorflow_backend as backend\n"
   ]
  },
  {
   "cell_type": "code",
   "execution_count": 20,
   "metadata": {},
   "outputs": [],
   "source": [
    "def objective(trial):\n",
    "    random.shuffle(train_set)\n",
    "    train_X, train_y = zip(*train_set)\n",
    "    params = {\n",
    "    'lr': trial.suggest_loguniform('lr', 1e-3, 1e-1),\n",
    "    'hidden': trial.suggest_categorical('hidden', list(range(1, 128, 10))),\n",
    "    'drop': trial.suggest_uniform('drop', 0.1, 1),\n",
    "    'batch': trial.suggest_categorical('batch', [18, 52, 104]),\n",
    "    }\n",
    "    adam = Adam(lr=params['lr'])\n",
    "    model = gen_model(params['hidden'], params['drop'], vocab_size= vocab_size, embed=embed_size) \n",
    "    model.compile(loss='categorical_crossentropy', optimizer=adam, metrics=[categorical_accuracy])\n",
    "    history = model.fit(np.array(train_X), np.array(train_y), batch_size=params['batch'], \n",
    "                        validation_data = (np.array(valid_X), np.array(valid_y)), \n",
    "                        epochs=10, shuffle=True, verbose = 0,\n",
    "                        callbacks = [es]#, KerasPruningCallback(trial, 'val_acc')]\n",
    "                       )\n",
    "    pred = np.argmax(model.predict(np.array(valid_X)), axis = 1)\n",
    "    true = np.argmax(valid_y, axis = 1)\n",
    "    score = f1_score(y_true=true, y_pred=pred, average = 'macro')\n",
    "    backend.clear_session()\n",
    "    history\n",
    "    return 1.0-score"
   ]
  },
  {
   "cell_type": "code",
   "execution_count": 21,
   "metadata": {
    "scrolled": true
   },
   "outputs": [
    {
     "name": "stdout",
     "output_type": "stream",
     "text": [
      "Epoch 00005: early stopping\n",
      "Epoch 00003: early stopping\n",
      "Epoch 00003: early stopping\n",
      "Epoch 00008: early stopping\n"
     ]
    },
    {
     "name": "stderr",
     "output_type": "stream",
     "text": [
      "C:\\Users\\HEndo\\AppData\\Local\\Programs\\Python\\Python36\\lib\\site-packages\\sklearn\\metrics\\classification.py:1143: UndefinedMetricWarning: F-score is ill-defined and being set to 0.0 in labels with no predicted samples.\n",
      "  'precision', 'predicted', average, warn_for)\n"
     ]
    },
    {
     "name": "stdout",
     "output_type": "stream",
     "text": [
      "Epoch 00006: early stopping\n",
      "Epoch 00003: early stopping\n",
      "Epoch 00004: early stopping\n",
      "Epoch 00007: early stopping\n",
      "Epoch 00004: early stopping\n"
     ]
    },
    {
     "name": "stderr",
     "output_type": "stream",
     "text": [
      "[I 2019-02-26 22:13:03,162] Finished trial 10 / 255. Current best value is 0.22131426379496144 with parameters: {'lr': 0.01433989347151844, 'hidden': 111, 'drop': 0.4956600417439637, 'batch': 18}.\n"
     ]
    },
    {
     "name": "stdout",
     "output_type": "stream",
     "text": [
      "Epoch 00005: early stopping\n",
      "Epoch 00003: early stopping\n",
      "Epoch 00004: early stopping\n",
      "Epoch 00003: early stopping\n",
      "Epoch 00003: early stopping\n",
      "Epoch 00003: early stopping\n",
      "Epoch 00003: early stopping\n",
      "Epoch 00004: early stopping\n",
      "Epoch 00004: early stopping\n",
      "Epoch 00004: early stopping\n"
     ]
    },
    {
     "name": "stderr",
     "output_type": "stream",
     "text": [
      "[I 2019-02-26 22:21:47,299] Finished trial 20 / 255. Current best value is 0.20889294577029827 with parameters: {'lr': 0.005850656268472383, 'hidden': 91, 'drop': 0.4055838757085528, 'batch': 18}.\n"
     ]
    },
    {
     "name": "stdout",
     "output_type": "stream",
     "text": [
      "Epoch 00003: early stopping\n",
      "Epoch 00003: early stopping\n",
      "Epoch 00004: early stopping\n",
      "Epoch 00004: early stopping\n",
      "Epoch 00003: early stopping\n",
      "Epoch 00004: early stopping\n",
      "Epoch 00004: early stopping\n",
      "Epoch 00003: early stopping\n",
      "Epoch 00004: early stopping\n",
      "Epoch 00005: early stopping\n"
     ]
    },
    {
     "name": "stderr",
     "output_type": "stream",
     "text": [
      "[I 2019-02-26 22:30:42,613] Finished trial 30 / 255. Current best value is 0.1950797897413835 with parameters: {'lr': 0.008852752983205208, 'hidden': 91, 'drop': 0.16975645175445364, 'batch': 18}.\n"
     ]
    },
    {
     "name": "stdout",
     "output_type": "stream",
     "text": [
      "Epoch 00004: early stopping\n",
      "Epoch 00004: early stopping\n",
      "Epoch 00003: early stopping\n",
      "Epoch 00004: early stopping\n",
      "Epoch 00006: early stopping\n"
     ]
    },
    {
     "name": "stderr",
     "output_type": "stream",
     "text": [
      "C:\\Users\\HEndo\\AppData\\Local\\Programs\\Python\\Python36\\lib\\site-packages\\sklearn\\metrics\\classification.py:1143: UndefinedMetricWarning: F-score is ill-defined and being set to 0.0 in labels with no predicted samples.\n",
      "  'precision', 'predicted', average, warn_for)\n"
     ]
    },
    {
     "name": "stdout",
     "output_type": "stream",
     "text": [
      "Epoch 00004: early stopping\n",
      "Epoch 00003: early stopping\n",
      "Epoch 00003: early stopping\n",
      "Epoch 00006: early stopping\n"
     ]
    },
    {
     "name": "stderr",
     "output_type": "stream",
     "text": [
      "C:\\Users\\HEndo\\AppData\\Local\\Programs\\Python\\Python36\\lib\\site-packages\\sklearn\\metrics\\classification.py:1143: UndefinedMetricWarning: F-score is ill-defined and being set to 0.0 in labels with no predicted samples.\n",
      "  'precision', 'predicted', average, warn_for)\n"
     ]
    },
    {
     "name": "stdout",
     "output_type": "stream",
     "text": [
      "Epoch 00003: early stopping\n"
     ]
    },
    {
     "name": "stderr",
     "output_type": "stream",
     "text": [
      "[I 2019-02-26 22:38:33,112] Finished trial 40 / 255. Current best value is 0.1950797897413835 with parameters: {'lr': 0.008852752983205208, 'hidden': 91, 'drop': 0.16975645175445364, 'batch': 18}.\n"
     ]
    },
    {
     "name": "stdout",
     "output_type": "stream",
     "text": [
      "Epoch 00005: early stopping\n",
      "Epoch 00003: early stopping\n"
     ]
    },
    {
     "name": "stderr",
     "output_type": "stream",
     "text": [
      "C:\\Users\\HEndo\\AppData\\Local\\Programs\\Python\\Python36\\lib\\site-packages\\sklearn\\metrics\\classification.py:1143: UndefinedMetricWarning: F-score is ill-defined and being set to 0.0 in labels with no predicted samples.\n",
      "  'precision', 'predicted', average, warn_for)\n"
     ]
    },
    {
     "name": "stdout",
     "output_type": "stream",
     "text": [
      "Epoch 00005: early stopping\n",
      "Epoch 00004: early stopping\n",
      "Epoch 00004: early stopping\n",
      "Epoch 00004: early stopping\n",
      "Epoch 00003: early stopping\n",
      "Epoch 00004: early stopping\n",
      "Epoch 00005: early stopping\n",
      "Epoch 00003: early stopping\n"
     ]
    },
    {
     "name": "stderr",
     "output_type": "stream",
     "text": [
      "[I 2019-02-26 22:46:16,628] Finished trial 50 / 255. Current best value is 0.1950797897413835 with parameters: {'lr': 0.008852752983205208, 'hidden': 91, 'drop': 0.16975645175445364, 'batch': 18}.\n"
     ]
    },
    {
     "name": "stdout",
     "output_type": "stream",
     "text": [
      "Epoch 00003: early stopping\n",
      "Epoch 00005: early stopping\n",
      "Epoch 00003: early stopping\n",
      "Epoch 00004: early stopping\n",
      "Epoch 00007: early stopping\n"
     ]
    },
    {
     "name": "stderr",
     "output_type": "stream",
     "text": [
      "C:\\Users\\HEndo\\AppData\\Local\\Programs\\Python\\Python36\\lib\\site-packages\\sklearn\\metrics\\classification.py:1143: UndefinedMetricWarning: F-score is ill-defined and being set to 0.0 in labels with no predicted samples.\n",
      "  'precision', 'predicted', average, warn_for)\n"
     ]
    },
    {
     "name": "stdout",
     "output_type": "stream",
     "text": [
      "Epoch 00003: early stopping\n",
      "Epoch 00004: early stopping\n",
      "Epoch 00005: early stopping\n"
     ]
    },
    {
     "name": "stderr",
     "output_type": "stream",
     "text": [
      "C:\\Users\\HEndo\\AppData\\Local\\Programs\\Python\\Python36\\lib\\site-packages\\sklearn\\metrics\\classification.py:1143: UndefinedMetricWarning: F-score is ill-defined and being set to 0.0 in labels with no predicted samples.\n",
      "  'precision', 'predicted', average, warn_for)\n"
     ]
    },
    {
     "name": "stdout",
     "output_type": "stream",
     "text": [
      "Epoch 00004: early stopping\n",
      "Epoch 00003: early stopping\n"
     ]
    },
    {
     "name": "stderr",
     "output_type": "stream",
     "text": [
      "[I 2019-02-26 22:56:18,439] Finished trial 60 / 255. Current best value is 0.1950797897413835 with parameters: {'lr': 0.008852752983205208, 'hidden': 91, 'drop': 0.16975645175445364, 'batch': 18}.\n"
     ]
    },
    {
     "name": "stdout",
     "output_type": "stream",
     "text": [
      "Epoch 00003: early stopping\n",
      "Epoch 00004: early stopping\n",
      "Epoch 00003: early stopping\n",
      "Epoch 00006: early stopping\n",
      "Epoch 00004: early stopping\n",
      "Epoch 00003: early stopping\n",
      "Epoch 00003: early stopping\n",
      "Epoch 00004: early stopping\n",
      "Epoch 00004: early stopping\n",
      "Epoch 00003: early stopping\n"
     ]
    },
    {
     "name": "stderr",
     "output_type": "stream",
     "text": [
      "[I 2019-02-26 23:05:54,602] Finished trial 70 / 255. Current best value is 0.1950797897413835 with parameters: {'lr': 0.008852752983205208, 'hidden': 91, 'drop': 0.16975645175445364, 'batch': 18}.\n"
     ]
    },
    {
     "name": "stdout",
     "output_type": "stream",
     "text": [
      "Epoch 00003: early stopping\n",
      "Epoch 00004: early stopping\n",
      "Epoch 00004: early stopping\n",
      "Epoch 00003: early stopping\n",
      "Epoch 00003: early stopping\n",
      "Epoch 00009: early stopping\n"
     ]
    },
    {
     "name": "stderr",
     "output_type": "stream",
     "text": [
      "C:\\Users\\HEndo\\AppData\\Local\\Programs\\Python\\Python36\\lib\\site-packages\\sklearn\\metrics\\classification.py:1143: UndefinedMetricWarning: F-score is ill-defined and being set to 0.0 in labels with no predicted samples.\n",
      "  'precision', 'predicted', average, warn_for)\n"
     ]
    },
    {
     "name": "stdout",
     "output_type": "stream",
     "text": [
      "Epoch 00004: early stopping\n",
      "Epoch 00004: early stopping\n",
      "Epoch 00003: early stopping\n",
      "Epoch 00003: early stopping\n"
     ]
    },
    {
     "name": "stderr",
     "output_type": "stream",
     "text": [
      "[I 2019-02-26 23:14:41,071] Finished trial 80 / 255. Current best value is 0.1950797897413835 with parameters: {'lr': 0.008852752983205208, 'hidden': 91, 'drop': 0.16975645175445364, 'batch': 18}.\n"
     ]
    },
    {
     "name": "stdout",
     "output_type": "stream",
     "text": [
      "Epoch 00004: early stopping\n",
      "Epoch 00003: early stopping\n",
      "Epoch 00003: early stopping\n",
      "Epoch 00005: early stopping\n",
      "Epoch 00003: early stopping\n",
      "Epoch 00004: early stopping\n",
      "Epoch 00004: early stopping\n",
      "Epoch 00003: early stopping\n",
      "Epoch 00004: early stopping\n",
      "Epoch 00003: early stopping\n"
     ]
    },
    {
     "name": "stderr",
     "output_type": "stream",
     "text": [
      "[I 2019-02-26 23:22:35,761] Finished trial 90 / 255. Current best value is 0.1950797897413835 with parameters: {'lr': 0.008852752983205208, 'hidden': 91, 'drop': 0.16975645175445364, 'batch': 18}.\n"
     ]
    },
    {
     "name": "stdout",
     "output_type": "stream",
     "text": [
      "Epoch 00003: early stopping\n",
      "Epoch 00004: early stopping\n",
      "Epoch 00007: early stopping\n"
     ]
    },
    {
     "name": "stderr",
     "output_type": "stream",
     "text": [
      "C:\\Users\\HEndo\\AppData\\Local\\Programs\\Python\\Python36\\lib\\site-packages\\sklearn\\metrics\\classification.py:1143: UndefinedMetricWarning: F-score is ill-defined and being set to 0.0 in labels with no predicted samples.\n",
      "  'precision', 'predicted', average, warn_for)\n"
     ]
    },
    {
     "name": "stdout",
     "output_type": "stream",
     "text": [
      "Epoch 00004: early stopping\n",
      "Epoch 00004: early stopping\n",
      "Epoch 00004: early stopping\n",
      "Epoch 00003: early stopping\n",
      "Epoch 00004: early stopping\n",
      "Epoch 00004: early stopping\n",
      "Epoch 00003: early stopping\n"
     ]
    },
    {
     "name": "stderr",
     "output_type": "stream",
     "text": [
      "[I 2019-02-26 23:31:37,380] Finished trial 100 / 255. Current best value is 0.1950797897413835 with parameters: {'lr': 0.008852752983205208, 'hidden': 91, 'drop': 0.16975645175445364, 'batch': 18}.\n"
     ]
    },
    {
     "name": "stdout",
     "output_type": "stream",
     "text": [
      "Epoch 00004: early stopping\n",
      "Epoch 00003: early stopping\n",
      "Epoch 00003: early stopping\n",
      "Epoch 00003: early stopping\n",
      "Epoch 00003: early stopping\n",
      "Epoch 00003: early stopping\n",
      "Epoch 00005: early stopping\n",
      "Epoch 00004: early stopping\n"
     ]
    },
    {
     "name": "stderr",
     "output_type": "stream",
     "text": [
      "C:\\Users\\HEndo\\AppData\\Local\\Programs\\Python\\Python36\\lib\\site-packages\\sklearn\\metrics\\classification.py:1143: UndefinedMetricWarning: F-score is ill-defined and being set to 0.0 in labels with no predicted samples.\n",
      "  'precision', 'predicted', average, warn_for)\n"
     ]
    },
    {
     "name": "stdout",
     "output_type": "stream",
     "text": [
      "Epoch 00004: early stopping\n",
      "Epoch 00003: early stopping\n"
     ]
    },
    {
     "name": "stderr",
     "output_type": "stream",
     "text": [
      "[I 2019-02-26 23:40:08,996] Finished trial 110 / 255. Current best value is 0.1950797897413835 with parameters: {'lr': 0.008852752983205208, 'hidden': 91, 'drop': 0.16975645175445364, 'batch': 18}.\n"
     ]
    },
    {
     "name": "stdout",
     "output_type": "stream",
     "text": [
      "Epoch 00004: early stopping\n",
      "Epoch 00004: early stopping\n",
      "Epoch 00004: early stopping\n",
      "Epoch 00003: early stopping\n",
      "Epoch 00004: early stopping\n",
      "Epoch 00004: early stopping\n",
      "Epoch 00003: early stopping\n",
      "Epoch 00003: early stopping\n",
      "Epoch 00003: early stopping\n",
      "Epoch 00004: early stopping\n"
     ]
    },
    {
     "name": "stderr",
     "output_type": "stream",
     "text": [
      "[I 2019-02-26 23:48:36,051] Finished trial 120 / 255. Current best value is 0.1950797897413835 with parameters: {'lr': 0.008852752983205208, 'hidden': 91, 'drop': 0.16975645175445364, 'batch': 18}.\n"
     ]
    },
    {
     "name": "stdout",
     "output_type": "stream",
     "text": [
      "Epoch 00004: early stopping\n",
      "Epoch 00004: early stopping\n",
      "Epoch 00005: early stopping\n",
      "Epoch 00006: early stopping\n",
      "Epoch 00003: early stopping\n",
      "Epoch 00004: early stopping\n",
      "Epoch 00003: early stopping\n",
      "Epoch 00003: early stopping\n",
      "Epoch 00003: early stopping\n",
      "Epoch 00004: early stopping\n"
     ]
    },
    {
     "name": "stderr",
     "output_type": "stream",
     "text": [
      "[I 2019-02-26 23:56:50,355] Finished trial 130 / 255. Current best value is 0.1950712370634523 with parameters: {'lr': 0.0052365668686423705, 'hidden': 91, 'drop': 0.4732293175092074, 'batch': 18}.\n"
     ]
    },
    {
     "name": "stdout",
     "output_type": "stream",
     "text": [
      "Epoch 00004: early stopping\n",
      "Epoch 00004: early stopping\n",
      "Epoch 00004: early stopping\n",
      "Epoch 00004: early stopping\n",
      "Epoch 00004: early stopping\n",
      "Epoch 00004: early stopping\n",
      "Epoch 00003: early stopping\n",
      "Epoch 00003: early stopping\n",
      "Epoch 00004: early stopping\n",
      "Epoch 00003: early stopping\n"
     ]
    },
    {
     "name": "stderr",
     "output_type": "stream",
     "text": [
      "[I 2019-02-27 00:05:45,327] Finished trial 140 / 255. Current best value is 0.1950712370634523 with parameters: {'lr': 0.0052365668686423705, 'hidden': 91, 'drop': 0.4732293175092074, 'batch': 18}.\n"
     ]
    },
    {
     "name": "stdout",
     "output_type": "stream",
     "text": [
      "Epoch 00004: early stopping\n",
      "Epoch 00004: early stopping\n",
      "Epoch 00004: early stopping\n",
      "Epoch 00004: early stopping\n",
      "Epoch 00004: early stopping\n",
      "Epoch 00009: early stopping\n"
     ]
    },
    {
     "name": "stderr",
     "output_type": "stream",
     "text": [
      "C:\\Users\\HEndo\\AppData\\Local\\Programs\\Python\\Python36\\lib\\site-packages\\sklearn\\metrics\\classification.py:1143: UndefinedMetricWarning: F-score is ill-defined and being set to 0.0 in labels with no predicted samples.\n",
      "  'precision', 'predicted', average, warn_for)\n"
     ]
    },
    {
     "name": "stdout",
     "output_type": "stream",
     "text": [
      "Epoch 00003: early stopping\n",
      "Epoch 00004: early stopping\n",
      "Epoch 00003: early stopping\n",
      "Epoch 00003: early stopping\n"
     ]
    },
    {
     "name": "stderr",
     "output_type": "stream",
     "text": [
      "[I 2019-02-27 00:15:43,221] Finished trial 150 / 255. Current best value is 0.1950712370634523 with parameters: {'lr': 0.0052365668686423705, 'hidden': 91, 'drop': 0.4732293175092074, 'batch': 18}.\n"
     ]
    },
    {
     "name": "stdout",
     "output_type": "stream",
     "text": [
      "Epoch 00004: early stopping\n"
     ]
    },
    {
     "name": "stderr",
     "output_type": "stream",
     "text": [
      "C:\\Users\\HEndo\\AppData\\Local\\Programs\\Python\\Python36\\lib\\site-packages\\sklearn\\metrics\\classification.py:1143: UndefinedMetricWarning: F-score is ill-defined and being set to 0.0 in labels with no predicted samples.\n",
      "  'precision', 'predicted', average, warn_for)\n"
     ]
    },
    {
     "name": "stdout",
     "output_type": "stream",
     "text": [
      "Epoch 00004: early stopping\n",
      "Epoch 00004: early stopping\n",
      "Epoch 00003: early stopping\n",
      "Epoch 00003: early stopping\n",
      "Epoch 00003: early stopping\n",
      "Epoch 00003: early stopping\n",
      "Epoch 00004: early stopping\n",
      "Epoch 00004: early stopping\n",
      "Epoch 00003: early stopping\n"
     ]
    },
    {
     "name": "stderr",
     "output_type": "stream",
     "text": [
      "[I 2019-02-27 00:25:43,273] Finished trial 160 / 255. Current best value is 0.1950712370634523 with parameters: {'lr': 0.0052365668686423705, 'hidden': 91, 'drop': 0.4732293175092074, 'batch': 18}.\n"
     ]
    },
    {
     "name": "stdout",
     "output_type": "stream",
     "text": [
      "Epoch 00005: early stopping\n",
      "Epoch 00003: early stopping\n",
      "Epoch 00003: early stopping\n",
      "Epoch 00003: early stopping\n",
      "Epoch 00004: early stopping\n",
      "Epoch 00003: early stopping\n",
      "Epoch 00003: early stopping\n",
      "Epoch 00003: early stopping\n",
      "Epoch 00010: early stopping\n"
     ]
    },
    {
     "name": "stderr",
     "output_type": "stream",
     "text": [
      "C:\\Users\\HEndo\\AppData\\Local\\Programs\\Python\\Python36\\lib\\site-packages\\sklearn\\metrics\\classification.py:1143: UndefinedMetricWarning: F-score is ill-defined and being set to 0.0 in labels with no predicted samples.\n",
      "  'precision', 'predicted', average, warn_for)\n"
     ]
    },
    {
     "name": "stdout",
     "output_type": "stream",
     "text": [
      "Epoch 00003: early stopping\n"
     ]
    },
    {
     "name": "stderr",
     "output_type": "stream",
     "text": [
      "[I 2019-02-27 00:34:05,129] Finished trial 170 / 255. Current best value is 0.1950712370634523 with parameters: {'lr': 0.0052365668686423705, 'hidden': 91, 'drop': 0.4732293175092074, 'batch': 18}.\n"
     ]
    },
    {
     "name": "stdout",
     "output_type": "stream",
     "text": [
      "Epoch 00003: early stopping\n"
     ]
    },
    {
     "name": "stderr",
     "output_type": "stream",
     "text": [
      "C:\\Users\\HEndo\\AppData\\Local\\Programs\\Python\\Python36\\lib\\site-packages\\sklearn\\metrics\\classification.py:1143: UndefinedMetricWarning: F-score is ill-defined and being set to 0.0 in labels with no predicted samples.\n",
      "  'precision', 'predicted', average, warn_for)\n"
     ]
    },
    {
     "name": "stdout",
     "output_type": "stream",
     "text": [
      "Epoch 00003: early stopping\n",
      "Epoch 00004: early stopping\n",
      "Epoch 00004: early stopping\n",
      "Epoch 00004: early stopping\n",
      "Epoch 00003: early stopping\n",
      "Epoch 00005: early stopping\n",
      "Epoch 00004: early stopping\n",
      "Epoch 00003: early stopping\n",
      "Epoch 00004: early stopping\n"
     ]
    },
    {
     "name": "stderr",
     "output_type": "stream",
     "text": [
      "[I 2019-02-27 00:43:10,905] Finished trial 180 / 255. Current best value is 0.1950712370634523 with parameters: {'lr': 0.0052365668686423705, 'hidden': 91, 'drop': 0.4732293175092074, 'batch': 18}.\n"
     ]
    },
    {
     "name": "stdout",
     "output_type": "stream",
     "text": [
      "Epoch 00003: early stopping\n",
      "Epoch 00003: early stopping\n",
      "Epoch 00004: early stopping\n",
      "Epoch 00005: early stopping\n"
     ]
    },
    {
     "name": "stderr",
     "output_type": "stream",
     "text": [
      "C:\\Users\\HEndo\\AppData\\Local\\Programs\\Python\\Python36\\lib\\site-packages\\sklearn\\metrics\\classification.py:1143: UndefinedMetricWarning: F-score is ill-defined and being set to 0.0 in labels with no predicted samples.\n",
      "  'precision', 'predicted', average, warn_for)\n"
     ]
    },
    {
     "name": "stdout",
     "output_type": "stream",
     "text": [
      "Epoch 00004: early stopping\n",
      "Epoch 00004: early stopping\n",
      "Epoch 00003: early stopping\n",
      "Epoch 00004: early stopping\n",
      "Epoch 00003: early stopping\n",
      "Epoch 00005: early stopping\n"
     ]
    },
    {
     "name": "stderr",
     "output_type": "stream",
     "text": [
      "[I 2019-02-27 00:51:33,380] Finished trial 190 / 255. Current best value is 0.1950712370634523 with parameters: {'lr': 0.0052365668686423705, 'hidden': 91, 'drop': 0.4732293175092074, 'batch': 18}.\n"
     ]
    },
    {
     "name": "stdout",
     "output_type": "stream",
     "text": [
      "Epoch 00004: early stopping\n",
      "Epoch 00004: early stopping\n"
     ]
    },
    {
     "name": "stderr",
     "output_type": "stream",
     "text": [
      "C:\\Users\\HEndo\\AppData\\Local\\Programs\\Python\\Python36\\lib\\site-packages\\sklearn\\metrics\\classification.py:1143: UndefinedMetricWarning: F-score is ill-defined and being set to 0.0 in labels with no predicted samples.\n",
      "  'precision', 'predicted', average, warn_for)\n"
     ]
    },
    {
     "name": "stdout",
     "output_type": "stream",
     "text": [
      "Epoch 00003: early stopping\n",
      "Epoch 00003: early stopping\n",
      "Epoch 00004: early stopping\n",
      "Epoch 00004: early stopping\n",
      "Epoch 00004: early stopping\n",
      "Epoch 00004: early stopping\n",
      "Epoch 00006: early stopping\n"
     ]
    },
    {
     "name": "stderr",
     "output_type": "stream",
     "text": [
      "C:\\Users\\HEndo\\AppData\\Local\\Programs\\Python\\Python36\\lib\\site-packages\\sklearn\\metrics\\classification.py:1143: UndefinedMetricWarning: F-score is ill-defined and being set to 0.0 in labels with no predicted samples.\n",
      "  'precision', 'predicted', average, warn_for)\n"
     ]
    },
    {
     "name": "stdout",
     "output_type": "stream",
     "text": [
      "Epoch 00004: early stopping\n"
     ]
    },
    {
     "name": "stderr",
     "output_type": "stream",
     "text": [
      "[I 2019-02-27 01:00:52,626] Finished trial 200 / 255. Current best value is 0.1950712370634523 with parameters: {'lr': 0.0052365668686423705, 'hidden': 91, 'drop': 0.4732293175092074, 'batch': 18}.\n"
     ]
    },
    {
     "name": "stdout",
     "output_type": "stream",
     "text": [
      "Epoch 00003: early stopping\n",
      "Epoch 00003: early stopping\n",
      "Epoch 00003: early stopping\n",
      "Epoch 00004: early stopping\n",
      "Epoch 00004: early stopping\n",
      "Epoch 00003: early stopping\n",
      "Epoch 00004: early stopping\n",
      "Epoch 00003: early stopping\n",
      "Epoch 00003: early stopping\n",
      "Epoch 00004: early stopping\n"
     ]
    },
    {
     "name": "stderr",
     "output_type": "stream",
     "text": [
      "[I 2019-02-27 01:09:30,953] Finished trial 210 / 255. Current best value is 0.1950712370634523 with parameters: {'lr': 0.0052365668686423705, 'hidden': 91, 'drop': 0.4732293175092074, 'batch': 18}.\n"
     ]
    },
    {
     "name": "stdout",
     "output_type": "stream",
     "text": [
      "Epoch 00004: early stopping\n",
      "Epoch 00003: early stopping\n",
      "Epoch 00003: early stopping\n",
      "Epoch 00004: early stopping\n",
      "Epoch 00003: early stopping\n",
      "Epoch 00007: early stopping\n"
     ]
    },
    {
     "name": "stderr",
     "output_type": "stream",
     "text": [
      "C:\\Users\\HEndo\\AppData\\Local\\Programs\\Python\\Python36\\lib\\site-packages\\sklearn\\metrics\\classification.py:1143: UndefinedMetricWarning: F-score is ill-defined and being set to 0.0 in labels with no predicted samples.\n",
      "  'precision', 'predicted', average, warn_for)\n"
     ]
    },
    {
     "name": "stdout",
     "output_type": "stream",
     "text": [
      "Epoch 00003: early stopping\n",
      "Epoch 00005: early stopping\n",
      "Epoch 00004: early stopping\n",
      "Epoch 00004: early stopping\n"
     ]
    },
    {
     "name": "stderr",
     "output_type": "stream",
     "text": [
      "[I 2019-02-27 01:18:17,368] Finished trial 220 / 255. Current best value is 0.1950712370634523 with parameters: {'lr': 0.0052365668686423705, 'hidden': 91, 'drop': 0.4732293175092074, 'batch': 18}.\n"
     ]
    },
    {
     "name": "stdout",
     "output_type": "stream",
     "text": [
      "Epoch 00004: early stopping\n",
      "Epoch 00003: early stopping\n",
      "Epoch 00003: early stopping\n",
      "Epoch 00003: early stopping\n",
      "Epoch 00003: early stopping\n",
      "Epoch 00004: early stopping\n",
      "Epoch 00004: early stopping\n",
      "Epoch 00004: early stopping\n",
      "Epoch 00004: early stopping\n"
     ]
    },
    {
     "name": "stderr",
     "output_type": "stream",
     "text": [
      "C:\\Users\\HEndo\\AppData\\Local\\Programs\\Python\\Python36\\lib\\site-packages\\sklearn\\metrics\\classification.py:1143: UndefinedMetricWarning: F-score is ill-defined and being set to 0.0 in labels with no predicted samples.\n",
      "  'precision', 'predicted', average, warn_for)\n"
     ]
    },
    {
     "name": "stdout",
     "output_type": "stream",
     "text": [
      "Epoch 00003: early stopping\n"
     ]
    },
    {
     "name": "stderr",
     "output_type": "stream",
     "text": [
      "[I 2019-02-27 01:26:35,676] Finished trial 230 / 255. Current best value is 0.1950712370634523 with parameters: {'lr': 0.0052365668686423705, 'hidden': 91, 'drop': 0.4732293175092074, 'batch': 18}.\n"
     ]
    },
    {
     "name": "stdout",
     "output_type": "stream",
     "text": [
      "Epoch 00004: early stopping\n",
      "Epoch 00007: early stopping\n"
     ]
    },
    {
     "name": "stderr",
     "output_type": "stream",
     "text": [
      "C:\\Users\\HEndo\\AppData\\Local\\Programs\\Python\\Python36\\lib\\site-packages\\sklearn\\metrics\\classification.py:1143: UndefinedMetricWarning: F-score is ill-defined and being set to 0.0 in labels with no predicted samples.\n",
      "  'precision', 'predicted', average, warn_for)\n"
     ]
    },
    {
     "name": "stdout",
     "output_type": "stream",
     "text": [
      "Epoch 00003: early stopping\n",
      "Epoch 00003: early stopping\n",
      "Epoch 00003: early stopping\n",
      "Epoch 00003: early stopping\n",
      "Epoch 00003: early stopping\n",
      "Epoch 00004: early stopping\n",
      "Epoch 00004: early stopping\n",
      "Epoch 00003: early stopping\n"
     ]
    },
    {
     "name": "stderr",
     "output_type": "stream",
     "text": [
      "[I 2019-02-27 01:34:32,681] Finished trial 240 / 255. Current best value is 0.1950712370634523 with parameters: {'lr': 0.0052365668686423705, 'hidden': 91, 'drop': 0.4732293175092074, 'batch': 18}.\n"
     ]
    },
    {
     "name": "stdout",
     "output_type": "stream",
     "text": [
      "Epoch 00004: early stopping\n",
      "Epoch 00004: early stopping\n",
      "Epoch 00003: early stopping\n",
      "Epoch 00003: early stopping\n",
      "Epoch 00004: early stopping\n",
      "Epoch 00004: early stopping\n",
      "Epoch 00004: early stopping\n",
      "Epoch 00004: early stopping\n",
      "Epoch 00003: early stopping\n",
      "Epoch 00003: early stopping\n"
     ]
    },
    {
     "name": "stderr",
     "output_type": "stream",
     "text": [
      "[I 2019-02-27 01:43:06,277] Finished trial 250 / 255. Current best value is 0.1950712370634523 with parameters: {'lr': 0.0052365668686423705, 'hidden': 91, 'drop': 0.4732293175092074, 'batch': 18}.\n"
     ]
    },
    {
     "name": "stdout",
     "output_type": "stream",
     "text": [
      "Epoch 00007: early stopping\n"
     ]
    },
    {
     "name": "stderr",
     "output_type": "stream",
     "text": [
      "C:\\Users\\HEndo\\AppData\\Local\\Programs\\Python\\Python36\\lib\\site-packages\\sklearn\\metrics\\classification.py:1143: UndefinedMetricWarning: F-score is ill-defined and being set to 0.0 in labels with no predicted samples.\n",
      "  'precision', 'predicted', average, warn_for)\n"
     ]
    },
    {
     "name": "stdout",
     "output_type": "stream",
     "text": [
      "Epoch 00006: early stopping\n"
     ]
    },
    {
     "name": "stderr",
     "output_type": "stream",
     "text": [
      "C:\\Users\\HEndo\\AppData\\Local\\Programs\\Python\\Python36\\lib\\site-packages\\sklearn\\metrics\\classification.py:1143: UndefinedMetricWarning: F-score is ill-defined and being set to 0.0 in labels with no predicted samples.\n",
      "  'precision', 'predicted', average, warn_for)\n"
     ]
    },
    {
     "name": "stdout",
     "output_type": "stream",
     "text": [
      "Epoch 00005: early stopping\n",
      "Epoch 00004: early stopping\n",
      "Epoch 00003: early stopping\n",
      "Epoch 00004: early stopping\n"
     ]
    }
   ],
   "source": [
    "study = optuna.create_study()\n",
    "study.optimize(objective, n_trials=255, n_jobs=1, verb_pace = 10)"
   ]
  },
  {
   "cell_type": "code",
   "execution_count": 3,
   "metadata": {},
   "outputs": [],
   "source": [
    "best = {'lr': 0.0052365668686423705, 'hidden': 91, 'drop': 0.4732293175092074, 'batch': 18}\n",
    "save_pkl('tuned_parameters/lstm.pkl', best)"
   ]
  },
  {
   "cell_type": "code",
   "execution_count": 4,
   "metadata": {},
   "outputs": [],
   "source": [
    "cw = {0:3, 1:1, 2:1.25}"
   ]
  },
  {
   "cell_type": "code",
   "execution_count": 23,
   "metadata": {},
   "outputs": [],
   "source": [
    "mcp_save = ModelCheckpoint('best_lstm2.hdf5', save_best_only=True, monitor='val_loss', mode='min')"
   ]
  },
  {
   "cell_type": "code",
   "execution_count": 39,
   "metadata": {},
   "outputs": [],
   "source": [
    "def objective_class_weight(trial):\n",
    "    random.shuffle(train_set)\n",
    "    train_X, train_y = zip(*train_set)\n",
    "    params = {\n",
    "    'lr': trial.suggest_loguniform('lr', 1e-3, 1e-1),\n",
    "    'hidden': trial.suggest_categorical('hidden', list(range(1, 128, 10))),\n",
    "    'drop': trial.suggest_uniform('drop', 0.1, 1),\n",
    "    'batch': 52#trial.suggest_categorical('batch', [18, 52, 104]),\n",
    "    }\n",
    "    adam = Adam(lr=params['lr'])\n",
    "    model = gen_model(params['hidden'], params['drop'], vocab_size= vocab_size, embed=embed_size) \n",
    "    model.compile(loss='categorical_crossentropy', optimizer=adam, metrics=[categorical_accuracy])\n",
    "    history = model.fit(np.array(train_X), np.array(train_y), batch_size=params['batch'], \n",
    "                        validation_data = (np.array(valid_X), np.array(valid_y)), \n",
    "                        epochs=6, shuffle=True, verbose = 0,\n",
    "                        callbacks = [es, mcp_save], #, KerasPruningCallback(trial, 'val_acc')]\n",
    "                        class_weight = cw\n",
    "                       )\n",
    "    model = load_model('best_lstm2.hdf5')\n",
    "    pred = np.argmax(model.predict(np.array(valid_X)), axis = 1)\n",
    "    true = np.argmax(valid_y, axis = 1)\n",
    "    score = f1_score(y_true=true, y_pred=pred, average = 'macro')\n",
    "    backend.clear_session()\n",
    "    history\n",
    "    return 1.0-score"
   ]
  },
  {
   "cell_type": "code",
   "execution_count": 40,
   "metadata": {
    "scrolled": true
   },
   "outputs": [
    {
     "name": "stdout",
     "output_type": "stream",
     "text": [
      "Epoch 00004: early stopping\n",
      "Epoch 00004: early stopping\n",
      "Epoch 00004: early stopping\n",
      "Epoch 00003: early stopping\n",
      "Epoch 00003: early stopping\n",
      "Epoch 00004: early stopping\n",
      "Epoch 00003: early stopping\n",
      "Epoch 00003: early stopping\n"
     ]
    },
    {
     "name": "stderr",
     "output_type": "stream",
     "text": [
      "[I 2019-02-28 17:01:04,552] Finished trial 10 / 200. Current best value is 0.20511729408045853 with parameters: {'lr': 0.003938782895310286, 'hidden': 81, 'drop': 0.5613009364853403}.\n"
     ]
    },
    {
     "name": "stdout",
     "output_type": "stream",
     "text": [
      "Epoch 00003: early stopping\n",
      "Epoch 00004: early stopping\n",
      "Epoch 00004: early stopping\n",
      "Epoch 00005: early stopping\n",
      "Epoch 00004: early stopping\n",
      "Epoch 00004: early stopping\n",
      "Epoch 00005: early stopping\n",
      "Epoch 00003: early stopping\n"
     ]
    },
    {
     "name": "stderr",
     "output_type": "stream",
     "text": [
      "[I 2019-02-28 17:06:55,373] Finished trial 20 / 200. Current best value is 0.20511729408045853 with parameters: {'lr': 0.003938782895310286, 'hidden': 81, 'drop': 0.5613009364853403}.\n"
     ]
    },
    {
     "name": "stdout",
     "output_type": "stream",
     "text": [
      "Epoch 00003: early stopping\n",
      "Epoch 00004: early stopping\n",
      "Epoch 00003: early stopping\n",
      "Epoch 00003: early stopping\n",
      "Epoch 00003: early stopping\n",
      "Epoch 00004: early stopping\n",
      "Epoch 00004: early stopping\n",
      "Epoch 00005: early stopping\n",
      "Epoch 00004: early stopping\n",
      "Epoch 00005: early stopping\n"
     ]
    },
    {
     "name": "stderr",
     "output_type": "stream",
     "text": [
      "[I 2019-02-28 17:13:07,660] Finished trial 30 / 200. Current best value is 0.20511729408045853 with parameters: {'lr': 0.003938782895310286, 'hidden': 81, 'drop': 0.5613009364853403}.\n"
     ]
    },
    {
     "name": "stdout",
     "output_type": "stream",
     "text": [
      "Epoch 00003: early stopping\n",
      "Epoch 00003: early stopping\n",
      "Epoch 00006: early stopping\n",
      "Epoch 00005: early stopping\n",
      "Epoch 00003: early stopping\n",
      "Epoch 00003: early stopping\n",
      "Epoch 00004: early stopping\n",
      "Epoch 00004: early stopping\n"
     ]
    },
    {
     "name": "stderr",
     "output_type": "stream",
     "text": [
      "[I 2019-02-28 17:18:08,553] Finished trial 40 / 200. Current best value is 0.20511729408045853 with parameters: {'lr': 0.003938782895310286, 'hidden': 81, 'drop': 0.5613009364853403}.\n"
     ]
    },
    {
     "name": "stdout",
     "output_type": "stream",
     "text": [
      "Epoch 00004: early stopping\n",
      "Epoch 00003: early stopping\n",
      "Epoch 00004: early stopping\n",
      "Epoch 00004: early stopping\n",
      "Epoch 00004: early stopping\n",
      "Epoch 00003: early stopping\n",
      "Epoch 00003: early stopping\n",
      "Epoch 00004: early stopping\n",
      "Epoch 00003: early stopping\n",
      "Epoch 00003: early stopping\n"
     ]
    },
    {
     "name": "stderr",
     "output_type": "stream",
     "text": [
      "[I 2019-02-28 17:23:28,923] Finished trial 50 / 200. Current best value is 0.20511729408045853 with parameters: {'lr': 0.003938782895310286, 'hidden': 81, 'drop': 0.5613009364853403}.\n"
     ]
    },
    {
     "name": "stdout",
     "output_type": "stream",
     "text": [
      "Epoch 00003: early stopping\n",
      "Epoch 00003: early stopping\n",
      "Epoch 00005: early stopping\n",
      "Epoch 00004: early stopping\n",
      "Epoch 00004: early stopping\n",
      "Epoch 00004: early stopping\n",
      "Epoch 00004: early stopping\n",
      "Epoch 00005: early stopping\n",
      "Epoch 00003: early stopping\n",
      "Epoch 00003: early stopping\n"
     ]
    },
    {
     "name": "stderr",
     "output_type": "stream",
     "text": [
      "[I 2019-02-28 17:29:27,078] Finished trial 60 / 200. Current best value is 0.20511729408045853 with parameters: {'lr': 0.003938782895310286, 'hidden': 81, 'drop': 0.5613009364853403}.\n"
     ]
    },
    {
     "name": "stdout",
     "output_type": "stream",
     "text": [
      "Epoch 00004: early stopping\n",
      "Epoch 00005: early stopping\n",
      "Epoch 00004: early stopping\n",
      "Epoch 00004: early stopping\n",
      "Epoch 00004: early stopping\n",
      "Epoch 00004: early stopping\n"
     ]
    },
    {
     "name": "stderr",
     "output_type": "stream",
     "text": [
      "[I 2019-02-28 17:34:58,326] Finished trial 70 / 200. Current best value is 0.20511729408045853 with parameters: {'lr': 0.003938782895310286, 'hidden': 81, 'drop': 0.5613009364853403}.\n"
     ]
    },
    {
     "name": "stdout",
     "output_type": "stream",
     "text": [
      "Epoch 00003: early stopping\n",
      "Epoch 00003: early stopping\n",
      "Epoch 00003: early stopping\n",
      "Epoch 00003: early stopping\n",
      "Epoch 00004: early stopping\n",
      "Epoch 00004: early stopping\n",
      "Epoch 00003: early stopping\n",
      "Epoch 00004: early stopping\n",
      "Epoch 00006: early stopping\n",
      "Epoch 00004: early stopping\n"
     ]
    },
    {
     "name": "stderr",
     "output_type": "stream",
     "text": [
      "[I 2019-02-28 17:40:04,461] Finished trial 80 / 200. Current best value is 0.20511729408045853 with parameters: {'lr': 0.003938782895310286, 'hidden': 81, 'drop': 0.5613009364853403}.\n"
     ]
    },
    {
     "name": "stdout",
     "output_type": "stream",
     "text": [
      "Epoch 00004: early stopping\n",
      "Epoch 00003: early stopping\n",
      "Epoch 00004: early stopping\n",
      "Epoch 00004: early stopping\n",
      "Epoch 00004: early stopping\n",
      "Epoch 00003: early stopping\n",
      "Epoch 00004: early stopping\n",
      "Epoch 00004: early stopping\n",
      "Epoch 00006: early stopping\n"
     ]
    },
    {
     "name": "stderr",
     "output_type": "stream",
     "text": [
      "[I 2019-02-28 17:46:32,932] Finished trial 90 / 200. Current best value is 0.20511729408045853 with parameters: {'lr': 0.003938782895310286, 'hidden': 81, 'drop': 0.5613009364853403}.\n"
     ]
    },
    {
     "name": "stdout",
     "output_type": "stream",
     "text": [
      "Epoch 00003: early stopping\n",
      "Epoch 00005: early stopping\n",
      "Epoch 00004: early stopping\n",
      "Epoch 00004: early stopping\n",
      "Epoch 00004: early stopping\n",
      "Epoch 00004: early stopping\n",
      "Epoch 00004: early stopping\n",
      "Epoch 00004: early stopping\n",
      "Epoch 00005: early stopping\n",
      "Epoch 00004: early stopping\n"
     ]
    },
    {
     "name": "stderr",
     "output_type": "stream",
     "text": [
      "[I 2019-02-28 17:51:23,980] Finished trial 100 / 200. Current best value is 0.203146663265799 with parameters: {'lr': 0.0016506045934272253, 'hidden': 41, 'drop': 0.3159095644935586}.\n"
     ]
    },
    {
     "name": "stdout",
     "output_type": "stream",
     "text": [
      "Epoch 00004: early stopping\n",
      "Epoch 00005: early stopping\n",
      "Epoch 00004: early stopping\n",
      "Epoch 00004: early stopping\n",
      "Epoch 00004: early stopping\n",
      "Epoch 00005: early stopping\n",
      "Epoch 00004: early stopping\n",
      "Epoch 00004: early stopping\n",
      "Epoch 00004: early stopping\n",
      "Epoch 00004: early stopping\n"
     ]
    },
    {
     "name": "stderr",
     "output_type": "stream",
     "text": [
      "[I 2019-02-28 17:56:58,723] Finished trial 110 / 200. Current best value is 0.203146663265799 with parameters: {'lr': 0.0016506045934272253, 'hidden': 41, 'drop': 0.3159095644935586}.\n"
     ]
    },
    {
     "name": "stdout",
     "output_type": "stream",
     "text": [
      "Epoch 00004: early stopping\n",
      "Epoch 00005: early stopping\n",
      "Epoch 00003: early stopping\n",
      "Epoch 00003: early stopping\n",
      "Epoch 00005: early stopping\n",
      "Epoch 00004: early stopping\n",
      "Epoch 00005: early stopping\n",
      "Epoch 00004: early stopping\n",
      "Epoch 00004: early stopping\n",
      "Epoch 00005: early stopping\n"
     ]
    },
    {
     "name": "stderr",
     "output_type": "stream",
     "text": [
      "[I 2019-02-28 18:03:29,517] Finished trial 120 / 200. Current best value is 0.203146663265799 with parameters: {'lr': 0.0016506045934272253, 'hidden': 41, 'drop': 0.3159095644935586}.\n"
     ]
    },
    {
     "name": "stdout",
     "output_type": "stream",
     "text": [
      "Epoch 00003: early stopping\n",
      "Epoch 00003: early stopping\n",
      "Epoch 00003: early stopping\n",
      "Epoch 00003: early stopping\n",
      "Epoch 00003: early stopping\n",
      "Epoch 00004: early stopping\n",
      "Epoch 00005: early stopping\n",
      "Epoch 00004: early stopping\n",
      "Epoch 00004: early stopping\n",
      "Epoch 00004: early stopping\n"
     ]
    },
    {
     "name": "stderr",
     "output_type": "stream",
     "text": [
      "[I 2019-02-28 18:08:42,368] Finished trial 130 / 200. Current best value is 0.203146663265799 with parameters: {'lr': 0.0016506045934272253, 'hidden': 41, 'drop': 0.3159095644935586}.\n"
     ]
    },
    {
     "name": "stdout",
     "output_type": "stream",
     "text": [
      "Epoch 00005: early stopping\n",
      "Epoch 00004: early stopping\n",
      "Epoch 00003: early stopping\n",
      "Epoch 00004: early stopping\n",
      "Epoch 00005: early stopping\n",
      "Epoch 00004: early stopping\n",
      "Epoch 00004: early stopping\n",
      "Epoch 00005: early stopping\n",
      "Epoch 00005: early stopping\n",
      "Epoch 00003: early stopping\n"
     ]
    },
    {
     "name": "stderr",
     "output_type": "stream",
     "text": [
      "[I 2019-02-28 18:14:49,110] Finished trial 140 / 200. Current best value is 0.203146663265799 with parameters: {'lr': 0.0016506045934272253, 'hidden': 41, 'drop': 0.3159095644935586}.\n"
     ]
    },
    {
     "name": "stdout",
     "output_type": "stream",
     "text": [
      "Epoch 00005: early stopping\n",
      "Epoch 00003: early stopping\n",
      "Epoch 00004: early stopping\n",
      "Epoch 00005: early stopping\n",
      "Epoch 00003: early stopping\n",
      "Epoch 00004: early stopping\n",
      "Epoch 00004: early stopping\n",
      "Epoch 00004: early stopping\n",
      "Epoch 00004: early stopping\n"
     ]
    },
    {
     "name": "stderr",
     "output_type": "stream",
     "text": [
      "[I 2019-02-28 18:20:26,416] Finished trial 150 / 200. Current best value is 0.203146663265799 with parameters: {'lr': 0.0016506045934272253, 'hidden': 41, 'drop': 0.3159095644935586}.\n"
     ]
    },
    {
     "name": "stdout",
     "output_type": "stream",
     "text": [
      "Epoch 00005: early stopping\n",
      "Epoch 00004: early stopping\n",
      "Epoch 00004: early stopping\n",
      "Epoch 00004: early stopping\n",
      "Epoch 00004: early stopping\n",
      "Epoch 00004: early stopping\n",
      "Epoch 00004: early stopping\n",
      "Epoch 00003: early stopping\n",
      "Epoch 00003: early stopping\n",
      "Epoch 00004: early stopping\n"
     ]
    },
    {
     "name": "stderr",
     "output_type": "stream",
     "text": [
      "[I 2019-02-28 18:26:13,522] Finished trial 160 / 200. Current best value is 0.203146663265799 with parameters: {'lr': 0.0016506045934272253, 'hidden': 41, 'drop': 0.3159095644935586}.\n"
     ]
    },
    {
     "name": "stdout",
     "output_type": "stream",
     "text": [
      "Epoch 00003: early stopping\n",
      "Epoch 00004: early stopping\n",
      "Epoch 00003: early stopping\n",
      "Epoch 00004: early stopping\n",
      "Epoch 00003: early stopping\n",
      "Epoch 00004: early stopping\n",
      "Epoch 00004: early stopping\n",
      "Epoch 00003: early stopping\n",
      "Epoch 00004: early stopping\n"
     ]
    },
    {
     "name": "stderr",
     "output_type": "stream",
     "text": [
      "[I 2019-02-28 18:31:43,849] Finished trial 170 / 200. Current best value is 0.203146663265799 with parameters: {'lr': 0.0016506045934272253, 'hidden': 41, 'drop': 0.3159095644935586}.\n"
     ]
    },
    {
     "name": "stdout",
     "output_type": "stream",
     "text": [
      "Epoch 00004: early stopping\n",
      "Epoch 00004: early stopping\n",
      "Epoch 00004: early stopping\n",
      "Epoch 00004: early stopping\n",
      "Epoch 00004: early stopping\n",
      "Epoch 00005: early stopping\n",
      "Epoch 00005: early stopping\n",
      "Epoch 00004: early stopping\n",
      "Epoch 00004: early stopping\n",
      "Epoch 00004: early stopping\n"
     ]
    },
    {
     "name": "stderr",
     "output_type": "stream",
     "text": [
      "[I 2019-02-28 18:37:19,592] Finished trial 180 / 200. Current best value is 0.203146663265799 with parameters: {'lr': 0.0016506045934272253, 'hidden': 41, 'drop': 0.3159095644935586}.\n"
     ]
    },
    {
     "name": "stdout",
     "output_type": "stream",
     "text": [
      "Epoch 00003: early stopping\n",
      "Epoch 00005: early stopping\n",
      "Epoch 00004: early stopping\n",
      "Epoch 00005: early stopping\n",
      "Epoch 00006: early stopping\n",
      "Epoch 00003: early stopping\n",
      "Epoch 00005: early stopping\n",
      "Epoch 00004: early stopping\n",
      "Epoch 00005: early stopping\n",
      "Epoch 00004: early stopping\n"
     ]
    },
    {
     "name": "stderr",
     "output_type": "stream",
     "text": [
      "[I 2019-02-28 18:43:40,742] Finished trial 190 / 200. Current best value is 0.203146663265799 with parameters: {'lr': 0.0016506045934272253, 'hidden': 41, 'drop': 0.3159095644935586}.\n"
     ]
    },
    {
     "name": "stdout",
     "output_type": "stream",
     "text": [
      "Epoch 00004: early stopping\n",
      "Epoch 00005: early stopping\n",
      "Epoch 00004: early stopping\n",
      "Epoch 00003: early stopping\n",
      "Epoch 00004: early stopping\n",
      "Epoch 00004: early stopping\n",
      "Epoch 00004: early stopping\n",
      "Epoch 00005: early stopping\n",
      "Epoch 00004: early stopping\n",
      "Epoch 00005: early stopping\n"
     ]
    },
    {
     "name": "stderr",
     "output_type": "stream",
     "text": [
      "[I 2019-02-28 18:49:01,285] Finished trial 200 / 200. Current best value is 0.203146663265799 with parameters: {'lr': 0.0016506045934272253, 'hidden': 41, 'drop': 0.3159095644935586}.\n"
     ]
    },
    {
     "name": "stdout",
     "output_type": "stream",
     "text": [
      "Epoch 00004: early stopping\n"
     ]
    }
   ],
   "source": [
    "study_cw = optuna.create_study()\n",
    "study_cw.optimize(objective_class_weight, n_trials=200, n_jobs=1, verb_pace = 10)"
   ]
  },
  {
   "cell_type": "code",
   "execution_count": 41,
   "metadata": {},
   "outputs": [],
   "source": [
    "best_cw = dp(study_cw.best_params)\n",
    "best_cw['batch'] = 52\n",
    "save_pkl('tuned_parameters/lstm_class_weight.pkl', best_cw)"
   ]
  },
  {
   "cell_type": "code",
   "execution_count": null,
   "metadata": {},
   "outputs": [],
   "source": []
  }
 ],
 "metadata": {
  "kernelspec": {
   "display_name": "Python 3.6",
   "language": "python",
   "name": "python3"
  },
  "language_info": {
   "codemirror_mode": {
    "name": "ipython",
    "version": 3
   },
   "file_extension": ".py",
   "mimetype": "text/x-python",
   "name": "python",
   "nbconvert_exporter": "python",
   "pygments_lexer": "ipython3",
   "version": "3.6.8"
  }
 },
 "nbformat": 4,
 "nbformat_minor": 2
}
