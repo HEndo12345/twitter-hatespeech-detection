{
 "cells": [
  {
   "cell_type": "code",
   "execution_count": 1,
   "metadata": {},
   "outputs": [],
   "source": [
    "from functions import *\n",
    "from process_text import *\n",
    "from sklearn.metrics import confusion_matrix\n",
    "from nltk.corpus import stopwords\n",
    "import sklearn\n",
    "from matplotlib import pyplot as plt\n",
    "import pandas as pd\n",
    "from sklearn.metrics import classification_report\n",
    "import random\n",
    "from sklearn.model_selection import cross_validate as cvt\n",
    "from sklearn.feature_extraction.text import TfidfVectorizer\n",
    "from sklearn.ensemble import RandomForestClassifier\n",
    "from copy import deepcopy as dp"
   ]
  },
  {
   "cell_type": "code",
   "execution_count": 2,
   "metadata": {},
   "outputs": [],
   "source": [
    "test, train = load_pkl(r'C:\\Users\\HEndo\\Documents\\GitHub\\zemi\\cleaned_corpus\\base_cleaned.pkl')\n",
    "test_a, train_a = load_pkl(r'C:\\Users\\HEndo\\Documents\\GitHub\\zemi\\cleaned_corpus\\org_answer_data.pkl')\n",
    "train_X = dp(train)\n",
    "train_Y = dp(train_a)\n",
    "test, train_2 = load_pkl(r'cleaned_corpus/augmented_corpus.pkl')\n",
    "test_a, train_a2 = load_pkl(r'cleaned_corpus/augmented_org_ans.pkl')\n",
    "train_X2 = dp(train_2)\n",
    "train_Y2 = dp(train_a2)\n",
    "forests = []\n",
    "sw = stopwords.words('english') + ['hes']"
   ]
  },
  {
   "cell_type": "code",
   "execution_count": 36,
   "metadata": {},
   "outputs": [],
   "source": [
    "def create_model(_min, _max, n_est, mx_depth, mn_sp, mx_feat, X = train_X, y = train_Y, cw = None):\n",
    "    \n",
    "    data = list(zip(X, y))\n",
    "    print(len(data))\n",
    "    random.shuffle(data)\n",
    "    ff_train, ff_train_a = zip(*data)\n",
    "    ff_train = [' '.join(text) for text in ff_train]\n",
    "    vect = TfidfVectorizer(stop_words=sw,tokenizer=tokenize, \n",
    "                          min_df= _min, max_df=_max, \n",
    "                          ngram_range=(1,2))\n",
    "    tfidf = vect.fit_transform(ff_train)\n",
    "    forest = RandomForestClassifier(n_estimators=n_est, \n",
    "                                 max_depth=mx_depth, \n",
    "               min_samples_split= mn_sp,\n",
    "               max_features= mx_feat,\n",
    "               class_weight= cw\n",
    "                                    \n",
    "              )\n",
    "    forest.fit(tfidf, ff_train_a)\n",
    "    test_x= [' '.join(text) for text in test]\n",
    "    test_X = vect.transform(test_x)\n",
    "    prediction = forest.predict(test_X)\n",
    "    cmx = print_cmx(y_true=test_a, y_pred=prediction)\n",
    "    \n",
    "    return forest"
   ]
  },
  {
   "cell_type": "code",
   "execution_count": 20,
   "metadata": {
    "scrolled": true
   },
   "outputs": [
    {
     "data": {
      "text/plain": [
       "{'_min': 0.0033950443296979203,\n",
       " '_max': 0.85,\n",
       " 'n_est': 50,\n",
       " 'mx_depth': 20.0,\n",
       " 'mn_sp': 0.1268469903355746,\n",
       " 'mx_feat': 0.9097354956132974}"
      ]
     },
     "execution_count": 20,
     "metadata": {},
     "output_type": "execute_result"
    }
   ],
   "source": [
    "normal_best_params = load_pkl('tuning/tuned_parameters/random_forest/random_forest.pkl')\n",
    "nbp = normal_best_params\n",
    "normal_best_params"
   ]
  },
  {
   "cell_type": "code",
   "execution_count": 21,
   "metadata": {},
   "outputs": [
    {
     "data": {
      "image/png": "[encoded data removed]",
      "text/plain": [
       "<Figure size 720x504 with 2 Axes>"
      ]
     },
     "metadata": {
      "needs_background": "light"
     },
     "output_type": "display_data"
    },
    {
     "name": "stdout",
     "output_type": "stream",
     "text": [
      "[[ 60  47  33]\n",
      " [ 26 444  30]\n",
      " [  1   6 393]]\n",
      "              precision    recall  f1-score   support\n",
      "\n",
      "           0       0.69      0.43      0.53       140\n",
      "           1       0.89      0.89      0.89       500\n",
      "           2       0.86      0.98      0.92       400\n",
      "\n",
      "   micro avg       0.86      0.86      0.86      1040\n",
      "   macro avg       0.81      0.77      0.78      1040\n",
      "weighted avg       0.85      0.86      0.85      1040\n",
      "\n"
     ]
    }
   ],
   "source": [
    "forest = create_model(nbp['_min'], nbp['_max'], nbp['n_est'], nbp['mx_depth'], nbp['mn_sp'], nbp['mx_feat'])\n",
    "forests.append(forest)"
   ]
  },
  {
   "cell_type": "code",
   "execution_count": 22,
   "metadata": {},
   "outputs": [
    {
     "data": {
      "text/plain": [
       "{'_min': 0.003,\n",
       " '_max': 0.85,\n",
       " 'n_est': 60,\n",
       " 'mx_depth': 30,\n",
       " 'mn_sp': 0.12,\n",
       " 'mx_feat': 0.915}"
      ]
     },
     "execution_count": 22,
     "metadata": {},
     "output_type": "execute_result"
    }
   ],
   "source": [
    "class_weight_best_params = load_pkl('tuning/tuned_parameters/random_forest/random_forest_class_weight.pkl')\n",
    "cbp = class_weight_best_params\n",
    "class_weight_best_params"
   ]
  },
  {
   "cell_type": "code",
   "execution_count": 23,
   "metadata": {},
   "outputs": [
    {
     "data": {
      "image/png": "[encoded data removed]",
      "text/plain": [
       "<Figure size 720x504 with 2 Axes>"
      ]
     },
     "metadata": {
      "needs_background": "light"
     },
     "output_type": "display_data"
    },
    {
     "name": "stdout",
     "output_type": "stream",
     "text": [
      "[[108  11  21]\n",
      " [ 79 393  28]\n",
      " [  8   4 388]]\n",
      "              precision    recall  f1-score   support\n",
      "\n",
      "           0       0.55      0.77      0.64       140\n",
      "           1       0.96      0.79      0.87       500\n",
      "           2       0.89      0.97      0.93       400\n",
      "\n",
      "   micro avg       0.85      0.85      0.85      1040\n",
      "   macro avg       0.80      0.84      0.81      1040\n",
      "weighted avg       0.88      0.85      0.86      1040\n",
      "\n"
     ]
    }
   ],
   "source": [
    "forest_cw = create_model(cbp['_min'], cbp['_max'], cbp['n_est'], cbp['mx_depth'], cbp['mn_sp'], cbp['mx_feat'], cw = 'balanced')\n",
    "forests.append(forest_cw)"
   ]
  },
  {
   "cell_type": "code",
   "execution_count": 30,
   "metadata": {},
   "outputs": [
    {
     "data": {
      "text/plain": [
       "{'_min': 0.0014818480452033042,\n",
       " 'n_est': 110,\n",
       " 'mx_depth': 70,\n",
       " 'mn_sp': 0.11731748628002224,\n",
       " 'mx_feat': 0.7547177058448401}"
      ]
     },
     "execution_count": 30,
     "metadata": {},
     "output_type": "execute_result"
    }
   ],
   "source": [
    "augmented_best_params = load_pkl('tuning/tuned_parameters/random_forest/random_forest_augmented.pkl')\n",
    "abp = augmented_best_params\n",
    "augmented_best_params"
   ]
  },
  {
   "cell_type": "code",
   "execution_count": 38,
   "metadata": {
    "scrolled": false
   },
   "outputs": [
    {
     "name": "stdout",
     "output_type": "stream",
     "text": [
      "13500\n"
     ]
    },
    {
     "data": {
      "image/png": "[encoded data removed]",
      "text/plain": [
       "<Figure size 720x504 with 2 Axes>"
      ]
     },
     "metadata": {
      "needs_background": "light"
     },
     "output_type": "display_data"
    },
    {
     "name": "stdout",
     "output_type": "stream",
     "text": [
      "[[115  10  15]\n",
      " [ 75 396  29]\n",
      " [ 22   4 374]]\n",
      "              precision    recall  f1-score   support\n",
      "\n",
      "           0       0.54      0.82      0.65       140\n",
      "           1       0.97      0.79      0.87       500\n",
      "           2       0.89      0.94      0.91       400\n",
      "\n",
      "   micro avg       0.85      0.85      0.85      1040\n",
      "   macro avg       0.80      0.85      0.81      1040\n",
      "weighted avg       0.88      0.85      0.86      1040\n",
      "\n"
     ]
    }
   ],
   "source": [
    "forest_aug = create_model(abp['_min'], 0.85, abp['n_est'],abp['mx_depth'], abp['mn_sp'], abp['mx_feat'], X = train_X2, y = train_Y2)\n",
    "forests.append(forest_aug)"
   ]
  },
  {
   "cell_type": "code",
   "execution_count": 40,
   "metadata": {},
   "outputs": [],
   "source": [
    "forests = [forest, forest_cw, forest_aug]\n",
    "save_pkl('final_models/random_forest.pkl', forests[0])\n",
    "save_pkl('final_models/random_forest_class_weight.pkl', forests[1])\n",
    "save_pkl('final_models/random_forest_augmented.pkl', forests[2])"
   ]
  }
 ],
 "metadata": {
  "kernelspec": {
   "display_name": "Python 3.6",
   "language": "python",
   "name": "python3"
  },
  "language_info": {
   "codemirror_mode": {
    "name": "ipython",
    "version": 3
   },
   "file_extension": ".py",
   "mimetype": "text/x-python",
   "name": "python",
   "nbconvert_exporter": "python",
   "pygments_lexer": "ipython3",
   "version": "3.6.8"
  }
 },
 "nbformat": 4,
 "nbformat_minor": 2
}
